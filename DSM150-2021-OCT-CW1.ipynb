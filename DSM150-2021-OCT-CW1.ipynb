{
 "cells": [
  {
   "cell_type": "markdown",
   "id": "d0f7d140",
   "metadata": {},
   "source": [
    "## Neural networks (DSM150-2021-OCT) coursework1                                              \n",
    "## Student Number: 210422632 "
   ]
  },
  {
   "cell_type": "markdown",
   "id": "f01ead82",
   "metadata": {},
   "source": [
    "# 1. Introduction\n",
    "\n",
    "## 1. Title\n",
    "- Bank marketing\n",
    "\n",
    "### 1.2 Informations\n",
    "- The data is related with direct marketing campaigns of a Portuguese banking institution.\n",
    "\n",
    "\n",
    "- The marketing campaigns were based on phone calls. Often, more than one contact to the same client was required, in order to access if the product (bank term deposit) would be (or not) subscribed. \n",
    "\n",
    "\n",
    "- There are two datasets on the website: \n",
    "\n",
    "    1) bank-full.csv with all examples, ordered by date (from May 2008 to November 2010).\n",
    "\n",
    "    2) bank.csv with 10% of the examples (4521), randomly selected from bank-full.csv.\n",
    "\n",
    "\n",
    "- The bank-full.csv dataset is chosen for the coursework\n",
    "\n",
    "\n",
    "\n",
    "## 1.3 Classification goal\n",
    "- To predict if the client will subscribe a term deposit (variable y)\n",
    "\n",
    "## 1.3 Citation\n",
    "- This dataset is available on http://archive.ics.uci.edu/ml/datasets/Bank+Marketing\n",
    "\n",
    "\n",
    "- The dataset is public available for research. The details are described in [Moro et al., 2011] S. Moro, R. Laureano and P. Cortez. Using Data Mining for Bank Direct Marketing: An Application of the CRISP-DM Methodology. \n",
    "  In P. Novais et al. (Eds.), Proceedings of the European Simulation and Modelling Conference - ESM'2011, pp. 117-121, Guimarães, Portugal, October, 2011. EUROSIS.\n",
    "  \n",
    "  \n",
    "- Available at: [pdf] http://hdl.handle.net/1822/14838, [bib] http://www3.dsi.uminho.pt/pcortez/bib/2011-esm-1.txt\n"
   ]
  },
  {
   "cell_type": "markdown",
   "id": "a6ad53e2",
   "metadata": {},
   "source": [
    "## 2. Attribute information:\n",
    "\n",
    "### 2.1 Input variables:\n",
    "   #### 2.1.1 Bank client data:\n",
    "   - 1) Age (numeric)\n",
    "   \n",
    "   \n",
    "   - 2) Job : type of job (categorical: \"admin.\",\"unknown\",\"unemployed\",\"management\",\"housemaid\",\"entrepreneur\",\"student\",\"blue-collar\",\"self-employed\",\"retired\",\"technician\",\"services\") \n",
    "   \n",
    "   \n",
    "   - 3) Marital : marital status (categorical: \"married\",\"divorced\",\"single\"; note: \"divorced\" means divorced or widowed)\n",
    "   \n",
    "   \n",
    "   - 4) Education (categorical: \"unknown\",\"secondary\",\"primary\",\"tertiary\")\n",
    "   \n",
    "   \n",
    "   - 5) Default: has credit in default? (binary: \"yes\",\"no\")\n",
    "   \n",
    "   \n",
    "   - 6) Balance: average yearly balance, in euros (numeric) \n",
    "   \n",
    "   \n",
    "   - 7) Housing: has housing loan? (binary: \"yes\",\"no\")\n",
    "   \n",
    "   \n",
    "   - 8) Loan: has personal loan? (binary: \"yes\",\"no\")\n",
    "   \n",
    "   \n",
    "   - 9) Contact: contact communication type (categorical: \"unknown\",\"telephone\",\"cellular\") \n",
    "   \n",
    "   \n",
    "   - 10) Day: last contact day of the month (numeric)\n",
    "   \n",
    "   \n",
    "   - 11) Month: last contact month of year (categorical: \"jan\", \"feb\", \"mar\", ..., \"nov\", \"dec\")\n",
    "   \n",
    "   \n",
    "   - 12) Duration: last contact duration, in seconds (numeric)\n",
    "   \n",
    "   \n",
    "   #### 2.1.2 Other attributes:\n",
    "   - 13) Campaign: number of contacts performed during this campaign and for this client (numeric, includes last contact)\n",
    "   \n",
    "   \n",
    "   - 14) Pdays: number of days that passed by after the client was last contacted from a previous campaign (numeric, -1 means client was not previously contacted)\n",
    "   \n",
    "   \n",
    "   - 15) Previous: number of contacts performed before this campaign and for this client (numeric)\n",
    "   \n",
    "   \n",
    "   - 16) Poutcome: outcome of the previous marketing campaign (categorical: \"unknown\",\"other\",\"failure\",\"success\")\n",
    "   \n",
    "\n",
    "  #### 2.1.3 Output variable (desired target):\n",
    "   - 17) y - has the client subscribed a term deposit? (binary: \"yes\",\"no\")"
   ]
  },
  {
   "cell_type": "markdown",
   "id": "31e71d4f",
   "metadata": {},
   "source": [
    "## 3. Methodology"
   ]
  },
  {
   "cell_type": "markdown",
   "id": "b8bbddbc",
   "metadata": {},
   "source": [
    "### 3.1 Loading dataset"
   ]
  },
  {
   "cell_type": "code",
   "execution_count": 1,
   "id": "1d125d7b",
   "metadata": {},
   "outputs": [],
   "source": [
    "#Import libraries\n",
    "\n",
    "import os\n",
    "import numpy as np\n",
    "import pandas as pd\n",
    "from sklearn.impute import SimpleImputer\n",
    "from sklearn.preprocessing import StandardScaler\n",
    "from sklearn.model_selection import train_test_split\n",
    "import tensorflow as tf\n",
    "from keras import models\n",
    "from keras import layers\n",
    "import keras\n",
    "from keras.utils.np_utils import to_categorical\n",
    "from keras import losses\n",
    "from keras import metrics\n",
    "from tensorflow.keras import optimizers\n",
    "import matplotlib.pyplot as plt\n",
    "import seaborn as sns\n",
    "from keras.models import Sequential\n",
    "from keras.layers import Dense\n",
    "from keras.layers import Dropout\n"
   ]
  },
  {
   "cell_type": "code",
   "execution_count": 2,
   "id": "f8449bf8",
   "metadata": {},
   "outputs": [],
   "source": [
    "#To load data and define data labelled unknown as na values\n",
    "\n",
    "df = pd.read_csv('https://raw.githubusercontent.com/madmashup/targeted-marketing-predictive-engine/master/banking.csv',na_values = 'unknown')"
   ]
  },
  {
   "cell_type": "code",
   "execution_count": 3,
   "id": "336e7435",
   "metadata": {},
   "outputs": [
    {
     "data": {
      "text/html": [
       "<div>\n",
       "<style scoped>\n",
       "    .dataframe tbody tr th:only-of-type {\n",
       "        vertical-align: middle;\n",
       "    }\n",
       "\n",
       "    .dataframe tbody tr th {\n",
       "        vertical-align: top;\n",
       "    }\n",
       "\n",
       "    .dataframe thead th {\n",
       "        text-align: right;\n",
       "    }\n",
       "</style>\n",
       "<table border=\"1\" class=\"dataframe\">\n",
       "  <thead>\n",
       "    <tr style=\"text-align: right;\">\n",
       "      <th></th>\n",
       "      <th>age</th>\n",
       "      <th>job</th>\n",
       "      <th>marital</th>\n",
       "      <th>education</th>\n",
       "      <th>default</th>\n",
       "      <th>housing</th>\n",
       "      <th>loan</th>\n",
       "      <th>contact</th>\n",
       "      <th>month</th>\n",
       "      <th>day_of_week</th>\n",
       "      <th>...</th>\n",
       "      <th>campaign</th>\n",
       "      <th>pdays</th>\n",
       "      <th>previous</th>\n",
       "      <th>poutcome</th>\n",
       "      <th>emp_var_rate</th>\n",
       "      <th>cons_price_idx</th>\n",
       "      <th>cons_conf_idx</th>\n",
       "      <th>euribor3m</th>\n",
       "      <th>nr_employed</th>\n",
       "      <th>y</th>\n",
       "    </tr>\n",
       "  </thead>\n",
       "  <tbody>\n",
       "    <tr>\n",
       "      <th>0</th>\n",
       "      <td>44</td>\n",
       "      <td>blue-collar</td>\n",
       "      <td>married</td>\n",
       "      <td>basic.4y</td>\n",
       "      <td>NaN</td>\n",
       "      <td>yes</td>\n",
       "      <td>no</td>\n",
       "      <td>cellular</td>\n",
       "      <td>aug</td>\n",
       "      <td>thu</td>\n",
       "      <td>...</td>\n",
       "      <td>1</td>\n",
       "      <td>999</td>\n",
       "      <td>0</td>\n",
       "      <td>nonexistent</td>\n",
       "      <td>1.4</td>\n",
       "      <td>93.444</td>\n",
       "      <td>-36.1</td>\n",
       "      <td>4.963</td>\n",
       "      <td>5228.1</td>\n",
       "      <td>0</td>\n",
       "    </tr>\n",
       "    <tr>\n",
       "      <th>1</th>\n",
       "      <td>53</td>\n",
       "      <td>technician</td>\n",
       "      <td>married</td>\n",
       "      <td>NaN</td>\n",
       "      <td>no</td>\n",
       "      <td>no</td>\n",
       "      <td>no</td>\n",
       "      <td>cellular</td>\n",
       "      <td>nov</td>\n",
       "      <td>fri</td>\n",
       "      <td>...</td>\n",
       "      <td>1</td>\n",
       "      <td>999</td>\n",
       "      <td>0</td>\n",
       "      <td>nonexistent</td>\n",
       "      <td>-0.1</td>\n",
       "      <td>93.200</td>\n",
       "      <td>-42.0</td>\n",
       "      <td>4.021</td>\n",
       "      <td>5195.8</td>\n",
       "      <td>0</td>\n",
       "    </tr>\n",
       "    <tr>\n",
       "      <th>2</th>\n",
       "      <td>28</td>\n",
       "      <td>management</td>\n",
       "      <td>single</td>\n",
       "      <td>university.degree</td>\n",
       "      <td>no</td>\n",
       "      <td>yes</td>\n",
       "      <td>no</td>\n",
       "      <td>cellular</td>\n",
       "      <td>jun</td>\n",
       "      <td>thu</td>\n",
       "      <td>...</td>\n",
       "      <td>3</td>\n",
       "      <td>6</td>\n",
       "      <td>2</td>\n",
       "      <td>success</td>\n",
       "      <td>-1.7</td>\n",
       "      <td>94.055</td>\n",
       "      <td>-39.8</td>\n",
       "      <td>0.729</td>\n",
       "      <td>4991.6</td>\n",
       "      <td>1</td>\n",
       "    </tr>\n",
       "    <tr>\n",
       "      <th>3</th>\n",
       "      <td>39</td>\n",
       "      <td>services</td>\n",
       "      <td>married</td>\n",
       "      <td>high.school</td>\n",
       "      <td>no</td>\n",
       "      <td>no</td>\n",
       "      <td>no</td>\n",
       "      <td>cellular</td>\n",
       "      <td>apr</td>\n",
       "      <td>fri</td>\n",
       "      <td>...</td>\n",
       "      <td>2</td>\n",
       "      <td>999</td>\n",
       "      <td>0</td>\n",
       "      <td>nonexistent</td>\n",
       "      <td>-1.8</td>\n",
       "      <td>93.075</td>\n",
       "      <td>-47.1</td>\n",
       "      <td>1.405</td>\n",
       "      <td>5099.1</td>\n",
       "      <td>0</td>\n",
       "    </tr>\n",
       "    <tr>\n",
       "      <th>4</th>\n",
       "      <td>55</td>\n",
       "      <td>retired</td>\n",
       "      <td>married</td>\n",
       "      <td>basic.4y</td>\n",
       "      <td>no</td>\n",
       "      <td>yes</td>\n",
       "      <td>no</td>\n",
       "      <td>cellular</td>\n",
       "      <td>aug</td>\n",
       "      <td>fri</td>\n",
       "      <td>...</td>\n",
       "      <td>1</td>\n",
       "      <td>3</td>\n",
       "      <td>1</td>\n",
       "      <td>success</td>\n",
       "      <td>-2.9</td>\n",
       "      <td>92.201</td>\n",
       "      <td>-31.4</td>\n",
       "      <td>0.869</td>\n",
       "      <td>5076.2</td>\n",
       "      <td>1</td>\n",
       "    </tr>\n",
       "  </tbody>\n",
       "</table>\n",
       "<p>5 rows × 21 columns</p>\n",
       "</div>"
      ],
      "text/plain": [
       "   age          job  marital          education default housing loan  \\\n",
       "0   44  blue-collar  married           basic.4y     NaN     yes   no   \n",
       "1   53   technician  married                NaN      no      no   no   \n",
       "2   28   management   single  university.degree      no     yes   no   \n",
       "3   39     services  married        high.school      no      no   no   \n",
       "4   55      retired  married           basic.4y      no     yes   no   \n",
       "\n",
       "    contact month day_of_week  ...  campaign  pdays  previous     poutcome  \\\n",
       "0  cellular   aug         thu  ...         1    999         0  nonexistent   \n",
       "1  cellular   nov         fri  ...         1    999         0  nonexistent   \n",
       "2  cellular   jun         thu  ...         3      6         2      success   \n",
       "3  cellular   apr         fri  ...         2    999         0  nonexistent   \n",
       "4  cellular   aug         fri  ...         1      3         1      success   \n",
       "\n",
       "  emp_var_rate  cons_price_idx  cons_conf_idx  euribor3m  nr_employed  y  \n",
       "0          1.4          93.444          -36.1      4.963       5228.1  0  \n",
       "1         -0.1          93.200          -42.0      4.021       5195.8  0  \n",
       "2         -1.7          94.055          -39.8      0.729       4991.6  1  \n",
       "3         -1.8          93.075          -47.1      1.405       5099.1  0  \n",
       "4         -2.9          92.201          -31.4      0.869       5076.2  1  \n",
       "\n",
       "[5 rows x 21 columns]"
      ]
     },
     "execution_count": 3,
     "metadata": {},
     "output_type": "execute_result"
    }
   ],
   "source": [
    "#To print first 5 rows of the data\n",
    "\n",
    "df.head()"
   ]
  },
  {
   "cell_type": "code",
   "execution_count": 4,
   "id": "92215c16",
   "metadata": {},
   "outputs": [
    {
     "name": "stdout",
     "output_type": "stream",
     "text": [
      "<class 'pandas.core.frame.DataFrame'>\n",
      "RangeIndex: 41188 entries, 0 to 41187\n",
      "Data columns (total 21 columns):\n",
      " #   Column          Non-Null Count  Dtype  \n",
      "---  ------          --------------  -----  \n",
      " 0   age             41188 non-null  int64  \n",
      " 1   job             40858 non-null  object \n",
      " 2   marital         41108 non-null  object \n",
      " 3   education       39457 non-null  object \n",
      " 4   default         32591 non-null  object \n",
      " 5   housing         40198 non-null  object \n",
      " 6   loan            40198 non-null  object \n",
      " 7   contact         41188 non-null  object \n",
      " 8   month           41188 non-null  object \n",
      " 9   day_of_week     41188 non-null  object \n",
      " 10  duration        41188 non-null  int64  \n",
      " 11  campaign        41188 non-null  int64  \n",
      " 12  pdays           41188 non-null  int64  \n",
      " 13  previous        41188 non-null  int64  \n",
      " 14  poutcome        41188 non-null  object \n",
      " 15  emp_var_rate    41188 non-null  float64\n",
      " 16  cons_price_idx  41188 non-null  float64\n",
      " 17  cons_conf_idx   41188 non-null  float64\n",
      " 18  euribor3m       41188 non-null  float64\n",
      " 19  nr_employed     41188 non-null  float64\n",
      " 20  y               41188 non-null  int64  \n",
      "dtypes: float64(5), int64(6), object(10)\n",
      "memory usage: 6.6+ MB\n"
     ]
    },
    {
     "data": {
      "text/plain": [
       "(None, 41188)"
      ]
     },
     "execution_count": 4,
     "metadata": {},
     "output_type": "execute_result"
    }
   ],
   "source": [
    "#To get information of the data\n",
    "\n",
    "df.info(), len(df)"
   ]
  },
  {
   "cell_type": "code",
   "execution_count": 5,
   "id": "01026f3d",
   "metadata": {},
   "outputs": [
    {
     "data": {
      "text/html": [
       "<div>\n",
       "<style scoped>\n",
       "    .dataframe tbody tr th:only-of-type {\n",
       "        vertical-align: middle;\n",
       "    }\n",
       "\n",
       "    .dataframe tbody tr th {\n",
       "        vertical-align: top;\n",
       "    }\n",
       "\n",
       "    .dataframe thead th {\n",
       "        text-align: right;\n",
       "    }\n",
       "</style>\n",
       "<table border=\"1\" class=\"dataframe\">\n",
       "  <thead>\n",
       "    <tr style=\"text-align: right;\">\n",
       "      <th></th>\n",
       "      <th>age</th>\n",
       "      <th>duration</th>\n",
       "      <th>campaign</th>\n",
       "      <th>pdays</th>\n",
       "      <th>previous</th>\n",
       "      <th>emp_var_rate</th>\n",
       "      <th>cons_price_idx</th>\n",
       "      <th>cons_conf_idx</th>\n",
       "      <th>euribor3m</th>\n",
       "      <th>nr_employed</th>\n",
       "      <th>y</th>\n",
       "    </tr>\n",
       "  </thead>\n",
       "  <tbody>\n",
       "    <tr>\n",
       "      <th>count</th>\n",
       "      <td>41188.00000</td>\n",
       "      <td>41188.000000</td>\n",
       "      <td>41188.000000</td>\n",
       "      <td>41188.000000</td>\n",
       "      <td>41188.000000</td>\n",
       "      <td>41188.000000</td>\n",
       "      <td>41188.000000</td>\n",
       "      <td>41188.000000</td>\n",
       "      <td>41188.000000</td>\n",
       "      <td>41188.000000</td>\n",
       "      <td>41188.000000</td>\n",
       "    </tr>\n",
       "    <tr>\n",
       "      <th>mean</th>\n",
       "      <td>40.02406</td>\n",
       "      <td>258.285010</td>\n",
       "      <td>2.567593</td>\n",
       "      <td>962.475454</td>\n",
       "      <td>0.172963</td>\n",
       "      <td>0.081886</td>\n",
       "      <td>93.575664</td>\n",
       "      <td>-40.502600</td>\n",
       "      <td>3.621291</td>\n",
       "      <td>5167.035911</td>\n",
       "      <td>0.112654</td>\n",
       "    </tr>\n",
       "    <tr>\n",
       "      <th>std</th>\n",
       "      <td>10.42125</td>\n",
       "      <td>259.279249</td>\n",
       "      <td>2.770014</td>\n",
       "      <td>186.910907</td>\n",
       "      <td>0.494901</td>\n",
       "      <td>1.570960</td>\n",
       "      <td>0.578840</td>\n",
       "      <td>4.628198</td>\n",
       "      <td>1.734447</td>\n",
       "      <td>72.251528</td>\n",
       "      <td>0.316173</td>\n",
       "    </tr>\n",
       "    <tr>\n",
       "      <th>min</th>\n",
       "      <td>17.00000</td>\n",
       "      <td>0.000000</td>\n",
       "      <td>1.000000</td>\n",
       "      <td>0.000000</td>\n",
       "      <td>0.000000</td>\n",
       "      <td>-3.400000</td>\n",
       "      <td>92.201000</td>\n",
       "      <td>-50.800000</td>\n",
       "      <td>0.634000</td>\n",
       "      <td>4963.600000</td>\n",
       "      <td>0.000000</td>\n",
       "    </tr>\n",
       "    <tr>\n",
       "      <th>25%</th>\n",
       "      <td>32.00000</td>\n",
       "      <td>102.000000</td>\n",
       "      <td>1.000000</td>\n",
       "      <td>999.000000</td>\n",
       "      <td>0.000000</td>\n",
       "      <td>-1.800000</td>\n",
       "      <td>93.075000</td>\n",
       "      <td>-42.700000</td>\n",
       "      <td>1.344000</td>\n",
       "      <td>5099.100000</td>\n",
       "      <td>0.000000</td>\n",
       "    </tr>\n",
       "    <tr>\n",
       "      <th>50%</th>\n",
       "      <td>38.00000</td>\n",
       "      <td>180.000000</td>\n",
       "      <td>2.000000</td>\n",
       "      <td>999.000000</td>\n",
       "      <td>0.000000</td>\n",
       "      <td>1.100000</td>\n",
       "      <td>93.749000</td>\n",
       "      <td>-41.800000</td>\n",
       "      <td>4.857000</td>\n",
       "      <td>5191.000000</td>\n",
       "      <td>0.000000</td>\n",
       "    </tr>\n",
       "    <tr>\n",
       "      <th>75%</th>\n",
       "      <td>47.00000</td>\n",
       "      <td>319.000000</td>\n",
       "      <td>3.000000</td>\n",
       "      <td>999.000000</td>\n",
       "      <td>0.000000</td>\n",
       "      <td>1.400000</td>\n",
       "      <td>93.994000</td>\n",
       "      <td>-36.400000</td>\n",
       "      <td>4.961000</td>\n",
       "      <td>5228.100000</td>\n",
       "      <td>0.000000</td>\n",
       "    </tr>\n",
       "    <tr>\n",
       "      <th>max</th>\n",
       "      <td>98.00000</td>\n",
       "      <td>4918.000000</td>\n",
       "      <td>56.000000</td>\n",
       "      <td>999.000000</td>\n",
       "      <td>7.000000</td>\n",
       "      <td>1.400000</td>\n",
       "      <td>94.767000</td>\n",
       "      <td>-26.900000</td>\n",
       "      <td>5.045000</td>\n",
       "      <td>5228.100000</td>\n",
       "      <td>1.000000</td>\n",
       "    </tr>\n",
       "  </tbody>\n",
       "</table>\n",
       "</div>"
      ],
      "text/plain": [
       "               age      duration      campaign         pdays      previous  \\\n",
       "count  41188.00000  41188.000000  41188.000000  41188.000000  41188.000000   \n",
       "mean      40.02406    258.285010      2.567593    962.475454      0.172963   \n",
       "std       10.42125    259.279249      2.770014    186.910907      0.494901   \n",
       "min       17.00000      0.000000      1.000000      0.000000      0.000000   \n",
       "25%       32.00000    102.000000      1.000000    999.000000      0.000000   \n",
       "50%       38.00000    180.000000      2.000000    999.000000      0.000000   \n",
       "75%       47.00000    319.000000      3.000000    999.000000      0.000000   \n",
       "max       98.00000   4918.000000     56.000000    999.000000      7.000000   \n",
       "\n",
       "       emp_var_rate  cons_price_idx  cons_conf_idx     euribor3m  \\\n",
       "count  41188.000000    41188.000000   41188.000000  41188.000000   \n",
       "mean       0.081886       93.575664     -40.502600      3.621291   \n",
       "std        1.570960        0.578840       4.628198      1.734447   \n",
       "min       -3.400000       92.201000     -50.800000      0.634000   \n",
       "25%       -1.800000       93.075000     -42.700000      1.344000   \n",
       "50%        1.100000       93.749000     -41.800000      4.857000   \n",
       "75%        1.400000       93.994000     -36.400000      4.961000   \n",
       "max        1.400000       94.767000     -26.900000      5.045000   \n",
       "\n",
       "        nr_employed             y  \n",
       "count  41188.000000  41188.000000  \n",
       "mean    5167.035911      0.112654  \n",
       "std       72.251528      0.316173  \n",
       "min     4963.600000      0.000000  \n",
       "25%     5099.100000      0.000000  \n",
       "50%     5191.000000      0.000000  \n",
       "75%     5228.100000      0.000000  \n",
       "max     5228.100000      1.000000  "
      ]
     },
     "execution_count": 5,
     "metadata": {},
     "output_type": "execute_result"
    }
   ],
   "source": [
    "#To get descriptive Statistics\n",
    "\n",
    "df.describe()"
   ]
  },
  {
   "cell_type": "code",
   "execution_count": 6,
   "id": "a3df8e89",
   "metadata": {},
   "outputs": [
    {
     "name": "stdout",
     "output_type": "stream",
     "text": [
      "['age', 'job', 'marital', 'education', 'default', 'housing', 'loan', 'contact', 'month', 'day_of_week', 'duration', 'campaign', 'pdays', 'previous', 'poutcome', 'emp_var_rate', 'cons_price_idx', 'cons_conf_idx', 'euribor3m', 'nr_employed', 'y']\n"
     ]
    }
   ],
   "source": [
    "#To see all co,umns of the data\n",
    "\n",
    "print(list(df.columns))"
   ]
  },
  {
   "cell_type": "markdown",
   "id": "29aa05c0",
   "metadata": {},
   "source": [
    "## 4. Data preprocessing"
   ]
  },
  {
   "cell_type": "markdown",
   "id": "8f745faf",
   "metadata": {},
   "source": [
    "### 4.1 Dealing with missing values"
   ]
  },
  {
   "cell_type": "code",
   "execution_count": 7,
   "id": "4216dcbc",
   "metadata": {},
   "outputs": [
    {
     "data": {
      "text/plain": [
       "age                  0\n",
       "job                330\n",
       "marital             80\n",
       "education         1731\n",
       "default           8597\n",
       "housing            990\n",
       "loan               990\n",
       "contact              0\n",
       "month                0\n",
       "day_of_week          0\n",
       "duration             0\n",
       "campaign             0\n",
       "pdays                0\n",
       "previous             0\n",
       "poutcome             0\n",
       "emp_var_rate         0\n",
       "cons_price_idx       0\n",
       "cons_conf_idx        0\n",
       "euribor3m            0\n",
       "nr_employed          0\n",
       "y                    0\n",
       "dtype: int64"
      ]
     },
     "execution_count": 7,
     "metadata": {},
     "output_type": "execute_result"
    }
   ],
   "source": [
    "df.isnull().sum()"
   ]
  },
  {
   "cell_type": "markdown",
   "id": "01a2f375",
   "metadata": {},
   "source": [
    "Column 'Education' has various categories, but they can potentialy be groupped into narrower categories , therefore we will need to inspect what categories are in this column and group them into categories"
   ]
  },
  {
   "cell_type": "code",
   "execution_count": 8,
   "id": "faeeb034",
   "metadata": {},
   "outputs": [
    {
     "data": {
      "text/plain": [
       "array(['basic.4y', nan, 'university.degree', 'high.school', 'basic.9y',\n",
       "       'professional.course', 'basic.6y', 'illiterate'], dtype=object)"
      ]
     },
     "execution_count": 8,
     "metadata": {},
     "output_type": "execute_result"
    }
   ],
   "source": [
    "df['education'].unique()"
   ]
  },
  {
   "cell_type": "code",
   "execution_count": 9,
   "id": "c28dce54",
   "metadata": {},
   "outputs": [],
   "source": [
    "df['education'] = np.where(df['education'] == 'basic.4y', 'Basic', df['education'])\n",
    "df['education'] = np.where(df['education'] == 'basic.6y', 'Basic', df['education'])\n",
    "df['education'] = np.where(df['education'] == 'basic.9y', 'Basic', df['education'])\n",
    "df['education'] = np.where(df['education'] == 'illiterate', 'Basic', df['education'])\n",
    "df['education'] = np.where(df['education'] == 'high.school', 'higher', df['education'])\n",
    "df['education'] = np.where(df['education'] == 'university.degree', 'higher', df['education'])\n",
    "df['education'] = np.where(df['education'] == 'professional.course', 'higher', df['education'])"
   ]
  },
  {
   "cell_type": "code",
   "execution_count": 10,
   "id": "ece6d488",
   "metadata": {},
   "outputs": [
    {
     "data": {
      "text/plain": [
       "array(['Basic', nan, 'higher'], dtype=object)"
      ]
     },
     "execution_count": 10,
     "metadata": {},
     "output_type": "execute_result"
    }
   ],
   "source": [
    "df['education'].unique()"
   ]
  },
  {
   "cell_type": "markdown",
   "id": "87386674",
   "metadata": {},
   "source": [
    "nan value in education column will be worked on later with nan values in other columns"
   ]
  },
  {
   "cell_type": "code",
   "execution_count": 11,
   "id": "b0137932",
   "metadata": {},
   "outputs": [
    {
     "data": {
      "text/plain": [
       "(array(['blue-collar', 'technician', 'management', 'services', 'retired',\n",
       "        'admin.', 'housemaid', 'unemployed', 'entrepreneur',\n",
       "        'self-employed', nan, 'student'], dtype=object),\n",
       " array(['married', 'single', 'divorced', nan], dtype=object),\n",
       " array([nan, 'no', 'yes'], dtype=object),\n",
       " array(['yes', 'no', nan], dtype=object),\n",
       " array(['no', 'yes', nan], dtype=object))"
      ]
     },
     "execution_count": 11,
     "metadata": {},
     "output_type": "execute_result"
    }
   ],
   "source": [
    "# To inspect other columns that have null values \n",
    "\n",
    "df['job'].unique(), df['marital'].unique(), df['default'].unique(), df['housing'].unique(), df['loan'].unique()"
   ]
  },
  {
   "cell_type": "markdown",
   "id": "5c9c65e0",
   "metadata": {},
   "source": [
    "After inspecting other columns, only education column will be groupped into a narrower category"
   ]
  },
  {
   "cell_type": "markdown",
   "id": "f6ac88fb",
   "metadata": {},
   "source": [
    "### 4.2 Extracting columns that contain the missing values"
   ]
  },
  {
   "cell_type": "code",
   "execution_count": 12,
   "id": "033e0acb",
   "metadata": {},
   "outputs": [],
   "source": [
    "# To set conditions for missing values\n",
    "\n",
    "nan_value_condition = np.array(df.isnull().sum() != 0)\n",
    "nan_value_column = np.where(nan_value_condition)[0]\n",
    "nan_columns_list = list(df.columns[nan_value_column])"
   ]
  },
  {
   "cell_type": "code",
   "execution_count": 13,
   "id": "676ce4fb",
   "metadata": {},
   "outputs": [
    {
     "data": {
      "text/plain": [
       "[admin.           10422\n",
       " blue-collar       9254\n",
       " technician        6743\n",
       " services          3969\n",
       " management        2924\n",
       " retired           1720\n",
       " entrepreneur      1456\n",
       " self-employed     1421\n",
       " housemaid         1060\n",
       " unemployed        1014\n",
       " student            875\n",
       " Name: job, dtype: int64,\n",
       " married     24928\n",
       " single      11568\n",
       " divorced     4612\n",
       " Name: marital, dtype: int64,\n",
       " higher    26926\n",
       " Basic     12531\n",
       " Name: education, dtype: int64,\n",
       " no     32588\n",
       " yes        3\n",
       " Name: default, dtype: int64,\n",
       " yes    21576\n",
       " no     18622\n",
       " Name: housing, dtype: int64,\n",
       " no     33950\n",
       " yes     6248\n",
       " Name: loan, dtype: int64]"
      ]
     },
     "execution_count": 13,
     "metadata": {},
     "output_type": "execute_result"
    }
   ],
   "source": [
    "#To make A list to store all the unique values from the columns that contains nan values\n",
    "\n",
    "nan_column_freq = []\n",
    "\n",
    "for i in nan_value_column:\n",
    "    nan_column_freq.append(df.iloc[:, i].value_counts())\n",
    "    \n",
    "nan_column_freq"
   ]
  },
  {
   "cell_type": "code",
   "execution_count": 14,
   "id": "46a19be8",
   "metadata": {},
   "outputs": [
    {
     "data": {
      "text/plain": [
       "job           330\n",
       "marital        80\n",
       "education    1731\n",
       "default      8597\n",
       "housing       990\n",
       "loan          990\n",
       "dtype: int64"
      ]
     },
     "execution_count": 14,
     "metadata": {},
     "output_type": "execute_result"
    }
   ],
   "source": [
    "#To make a list to store all missing values\n",
    "\n",
    "df_nan_value = df[nan_columns_list]\n",
    "df_nan_value.isnull().sum() "
   ]
  },
  {
   "cell_type": "code",
   "execution_count": 15,
   "id": "e7919c7b",
   "metadata": {},
   "outputs": [
    {
     "data": {
      "text/plain": [
       "[admin.           10422\n",
       " blue-collar       9254\n",
       " technician        6743\n",
       " services          3969\n",
       " management        2924\n",
       " retired           1720\n",
       " entrepreneur      1456\n",
       " self-employed     1421\n",
       " housemaid         1060\n",
       " unemployed        1014\n",
       " student            875\n",
       " null               330\n",
       " dtype: int64,\n",
       " married     24928\n",
       " single      11568\n",
       " divorced     4612\n",
       " null           80\n",
       " dtype: int64,\n",
       " higher    26926\n",
       " Basic     12531\n",
       " null       1731\n",
       " dtype: int64,\n",
       " no      32588\n",
       " yes         3\n",
       " null     8597\n",
       " dtype: int64,\n",
       " yes     21576\n",
       " no      18622\n",
       " null      990\n",
       " dtype: int64,\n",
       " no      33950\n",
       " yes      6248\n",
       " null      990\n",
       " dtype: int64]"
      ]
     },
     "execution_count": 15,
     "metadata": {},
     "output_type": "execute_result"
    }
   ],
   "source": [
    "#To append 'Nan' and its count in the missing colum frequency list\n",
    "\n",
    "for i in range(6):\n",
    "    nan_column_freq[i] = nan_column_freq[i].append(pd.Series({'null' : df_nan_value.isnull().sum()[i]}))\n",
    "\n",
    "nan_column_freq"
   ]
  },
  {
   "cell_type": "code",
   "execution_count": 16,
   "id": "ab3546db",
   "metadata": {},
   "outputs": [
    {
     "name": "stdout",
     "output_type": "stream",
     "text": [
      "Replace nan values with:\n",
      " ['admin.' 'married' 'higher' 'no' 'yes' 'no']\n"
     ]
    }
   ],
   "source": [
    "#To replace nan values with attribute in SimpleImputer\n",
    "\n",
    "sim = SimpleImputer(strategy = \"most_frequent\")\n",
    "sim.fit(df_nan_value)\n",
    "print('Replace nan values with:\\n', sim.statistics_)"
   ]
  },
  {
   "cell_type": "code",
   "execution_count": 17,
   "id": "c8b6d6fc",
   "metadata": {},
   "outputs": [
    {
     "data": {
      "text/plain": [
       "0    0\n",
       "1    0\n",
       "2    0\n",
       "3    0\n",
       "4    0\n",
       "5    0\n",
       "dtype: int64"
      ]
     },
     "execution_count": 17,
     "metadata": {},
     "output_type": "execute_result"
    }
   ],
   "source": [
    "# To replace the nan values and to check the results\n",
    "\n",
    "df_nan = pd.DataFrame(sim.transform(df_nan_value))\n",
    "df_nan.isnull().sum()"
   ]
  },
  {
   "cell_type": "markdown",
   "id": "cc85b922",
   "metadata": {},
   "source": [
    "Now it can be seen that all nan values has been replaced"
   ]
  },
  {
   "cell_type": "code",
   "execution_count": 18,
   "id": "babfedf4",
   "metadata": {},
   "outputs": [
    {
     "data": {
      "text/plain": [
       "age                  0\n",
       "job                330\n",
       "marital             80\n",
       "education         1731\n",
       "default           8597\n",
       "housing            990\n",
       "loan               990\n",
       "contact              0\n",
       "month                0\n",
       "day_of_week          0\n",
       "duration             0\n",
       "campaign             0\n",
       "pdays                0\n",
       "previous             0\n",
       "poutcome             0\n",
       "emp_var_rate         0\n",
       "cons_price_idx       0\n",
       "cons_conf_idx        0\n",
       "euribor3m            0\n",
       "nr_employed          0\n",
       "y                    0\n",
       "dtype: int64"
      ]
     },
     "execution_count": 18,
     "metadata": {},
     "output_type": "execute_result"
    }
   ],
   "source": [
    "#To create a copy of the original dataset \n",
    "\n",
    "data = df.copy()\n",
    "data.isnull().sum()"
   ]
  },
  {
   "cell_type": "code",
   "execution_count": 19,
   "id": "0bbf31e9",
   "metadata": {},
   "outputs": [
    {
     "data": {
      "text/plain": [
       "age               0\n",
       "job               0\n",
       "marital           0\n",
       "education         0\n",
       "default           0\n",
       "housing           0\n",
       "loan              0\n",
       "contact           0\n",
       "month             0\n",
       "day_of_week       0\n",
       "duration          0\n",
       "campaign          0\n",
       "pdays             0\n",
       "previous          0\n",
       "poutcome          0\n",
       "emp_var_rate      0\n",
       "cons_price_idx    0\n",
       "cons_conf_idx     0\n",
       "euribor3m         0\n",
       "nr_employed       0\n",
       "y                 0\n",
       "dtype: int64"
      ]
     },
     "execution_count": 19,
     "metadata": {},
     "output_type": "execute_result"
    }
   ],
   "source": [
    "# To replace the nan values with the preprocessed values\n",
    "\n",
    "data[nan_columns_list] = df_nan\n",
    "data.isnull().sum()"
   ]
  },
  {
   "cell_type": "code",
   "execution_count": 20,
   "id": "2285c285",
   "metadata": {},
   "outputs": [
    {
     "data": {
      "text/html": [
       "<div>\n",
       "<style scoped>\n",
       "    .dataframe tbody tr th:only-of-type {\n",
       "        vertical-align: middle;\n",
       "    }\n",
       "\n",
       "    .dataframe tbody tr th {\n",
       "        vertical-align: top;\n",
       "    }\n",
       "\n",
       "    .dataframe thead th {\n",
       "        text-align: right;\n",
       "    }\n",
       "</style>\n",
       "<table border=\"1\" class=\"dataframe\">\n",
       "  <thead>\n",
       "    <tr style=\"text-align: right;\">\n",
       "      <th></th>\n",
       "      <th>age</th>\n",
       "      <th>job</th>\n",
       "      <th>marital</th>\n",
       "      <th>education</th>\n",
       "      <th>default</th>\n",
       "      <th>housing</th>\n",
       "      <th>loan</th>\n",
       "      <th>contact</th>\n",
       "      <th>month</th>\n",
       "      <th>day_of_week</th>\n",
       "      <th>...</th>\n",
       "      <th>campaign</th>\n",
       "      <th>pdays</th>\n",
       "      <th>previous</th>\n",
       "      <th>poutcome</th>\n",
       "      <th>emp_var_rate</th>\n",
       "      <th>cons_price_idx</th>\n",
       "      <th>cons_conf_idx</th>\n",
       "      <th>euribor3m</th>\n",
       "      <th>nr_employed</th>\n",
       "      <th>y</th>\n",
       "    </tr>\n",
       "  </thead>\n",
       "  <tbody>\n",
       "    <tr>\n",
       "      <th>0</th>\n",
       "      <td>44</td>\n",
       "      <td>blue-collar</td>\n",
       "      <td>married</td>\n",
       "      <td>Basic</td>\n",
       "      <td>no</td>\n",
       "      <td>yes</td>\n",
       "      <td>no</td>\n",
       "      <td>cellular</td>\n",
       "      <td>aug</td>\n",
       "      <td>thu</td>\n",
       "      <td>...</td>\n",
       "      <td>1</td>\n",
       "      <td>999</td>\n",
       "      <td>0</td>\n",
       "      <td>nonexistent</td>\n",
       "      <td>1.4</td>\n",
       "      <td>93.444</td>\n",
       "      <td>-36.1</td>\n",
       "      <td>4.963</td>\n",
       "      <td>5228.1</td>\n",
       "      <td>0</td>\n",
       "    </tr>\n",
       "    <tr>\n",
       "      <th>1</th>\n",
       "      <td>53</td>\n",
       "      <td>technician</td>\n",
       "      <td>married</td>\n",
       "      <td>higher</td>\n",
       "      <td>no</td>\n",
       "      <td>no</td>\n",
       "      <td>no</td>\n",
       "      <td>cellular</td>\n",
       "      <td>nov</td>\n",
       "      <td>fri</td>\n",
       "      <td>...</td>\n",
       "      <td>1</td>\n",
       "      <td>999</td>\n",
       "      <td>0</td>\n",
       "      <td>nonexistent</td>\n",
       "      <td>-0.1</td>\n",
       "      <td>93.200</td>\n",
       "      <td>-42.0</td>\n",
       "      <td>4.021</td>\n",
       "      <td>5195.8</td>\n",
       "      <td>0</td>\n",
       "    </tr>\n",
       "    <tr>\n",
       "      <th>2</th>\n",
       "      <td>28</td>\n",
       "      <td>management</td>\n",
       "      <td>single</td>\n",
       "      <td>higher</td>\n",
       "      <td>no</td>\n",
       "      <td>yes</td>\n",
       "      <td>no</td>\n",
       "      <td>cellular</td>\n",
       "      <td>jun</td>\n",
       "      <td>thu</td>\n",
       "      <td>...</td>\n",
       "      <td>3</td>\n",
       "      <td>6</td>\n",
       "      <td>2</td>\n",
       "      <td>success</td>\n",
       "      <td>-1.7</td>\n",
       "      <td>94.055</td>\n",
       "      <td>-39.8</td>\n",
       "      <td>0.729</td>\n",
       "      <td>4991.6</td>\n",
       "      <td>1</td>\n",
       "    </tr>\n",
       "    <tr>\n",
       "      <th>3</th>\n",
       "      <td>39</td>\n",
       "      <td>services</td>\n",
       "      <td>married</td>\n",
       "      <td>higher</td>\n",
       "      <td>no</td>\n",
       "      <td>no</td>\n",
       "      <td>no</td>\n",
       "      <td>cellular</td>\n",
       "      <td>apr</td>\n",
       "      <td>fri</td>\n",
       "      <td>...</td>\n",
       "      <td>2</td>\n",
       "      <td>999</td>\n",
       "      <td>0</td>\n",
       "      <td>nonexistent</td>\n",
       "      <td>-1.8</td>\n",
       "      <td>93.075</td>\n",
       "      <td>-47.1</td>\n",
       "      <td>1.405</td>\n",
       "      <td>5099.1</td>\n",
       "      <td>0</td>\n",
       "    </tr>\n",
       "    <tr>\n",
       "      <th>4</th>\n",
       "      <td>55</td>\n",
       "      <td>retired</td>\n",
       "      <td>married</td>\n",
       "      <td>Basic</td>\n",
       "      <td>no</td>\n",
       "      <td>yes</td>\n",
       "      <td>no</td>\n",
       "      <td>cellular</td>\n",
       "      <td>aug</td>\n",
       "      <td>fri</td>\n",
       "      <td>...</td>\n",
       "      <td>1</td>\n",
       "      <td>3</td>\n",
       "      <td>1</td>\n",
       "      <td>success</td>\n",
       "      <td>-2.9</td>\n",
       "      <td>92.201</td>\n",
       "      <td>-31.4</td>\n",
       "      <td>0.869</td>\n",
       "      <td>5076.2</td>\n",
       "      <td>1</td>\n",
       "    </tr>\n",
       "  </tbody>\n",
       "</table>\n",
       "<p>5 rows × 21 columns</p>\n",
       "</div>"
      ],
      "text/plain": [
       "   age          job  marital education default housing loan   contact month  \\\n",
       "0   44  blue-collar  married     Basic      no     yes   no  cellular   aug   \n",
       "1   53   technician  married    higher      no      no   no  cellular   nov   \n",
       "2   28   management   single    higher      no     yes   no  cellular   jun   \n",
       "3   39     services  married    higher      no      no   no  cellular   apr   \n",
       "4   55      retired  married     Basic      no     yes   no  cellular   aug   \n",
       "\n",
       "  day_of_week  ...  campaign  pdays  previous     poutcome emp_var_rate  \\\n",
       "0         thu  ...         1    999         0  nonexistent          1.4   \n",
       "1         fri  ...         1    999         0  nonexistent         -0.1   \n",
       "2         thu  ...         3      6         2      success         -1.7   \n",
       "3         fri  ...         2    999         0  nonexistent         -1.8   \n",
       "4         fri  ...         1      3         1      success         -2.9   \n",
       "\n",
       "   cons_price_idx  cons_conf_idx  euribor3m  nr_employed  y  \n",
       "0          93.444          -36.1      4.963       5228.1  0  \n",
       "1          93.200          -42.0      4.021       5195.8  0  \n",
       "2          94.055          -39.8      0.729       4991.6  1  \n",
       "3          93.075          -47.1      1.405       5099.1  0  \n",
       "4          92.201          -31.4      0.869       5076.2  1  \n",
       "\n",
       "[5 rows x 21 columns]"
      ]
     },
     "execution_count": 20,
     "metadata": {},
     "output_type": "execute_result"
    }
   ],
   "source": [
    "# To print data \n",
    "\n",
    "data.head()"
   ]
  },
  {
   "cell_type": "code",
   "execution_count": 21,
   "id": "6311c384",
   "metadata": {},
   "outputs": [],
   "source": [
    "#To binary encoding of class label to be 0 and 1\n",
    "\n",
    "data['default'] = data['default'].map({'no':0, 'yes':1})\n",
    "data['housing'] = data['housing'].map({'no':0, 'yes':1})\n",
    "data['loan'] = data['loan'].map({'no':0, 'yes':1})"
   ]
  },
  {
   "cell_type": "code",
   "execution_count": 22,
   "id": "c4ddb593",
   "metadata": {},
   "outputs": [
    {
     "data": {
      "text/html": [
       "<div>\n",
       "<style scoped>\n",
       "    .dataframe tbody tr th:only-of-type {\n",
       "        vertical-align: middle;\n",
       "    }\n",
       "\n",
       "    .dataframe tbody tr th {\n",
       "        vertical-align: top;\n",
       "    }\n",
       "\n",
       "    .dataframe thead th {\n",
       "        text-align: right;\n",
       "    }\n",
       "</style>\n",
       "<table border=\"1\" class=\"dataframe\">\n",
       "  <thead>\n",
       "    <tr style=\"text-align: right;\">\n",
       "      <th></th>\n",
       "      <th>age</th>\n",
       "      <th>job</th>\n",
       "      <th>marital</th>\n",
       "      <th>education</th>\n",
       "      <th>default</th>\n",
       "      <th>housing</th>\n",
       "      <th>loan</th>\n",
       "      <th>contact</th>\n",
       "      <th>month</th>\n",
       "      <th>day_of_week</th>\n",
       "      <th>...</th>\n",
       "      <th>campaign</th>\n",
       "      <th>pdays</th>\n",
       "      <th>previous</th>\n",
       "      <th>poutcome</th>\n",
       "      <th>emp_var_rate</th>\n",
       "      <th>cons_price_idx</th>\n",
       "      <th>cons_conf_idx</th>\n",
       "      <th>euribor3m</th>\n",
       "      <th>nr_employed</th>\n",
       "      <th>y</th>\n",
       "    </tr>\n",
       "  </thead>\n",
       "  <tbody>\n",
       "    <tr>\n",
       "      <th>0</th>\n",
       "      <td>44</td>\n",
       "      <td>blue-collar</td>\n",
       "      <td>married</td>\n",
       "      <td>Basic</td>\n",
       "      <td>0</td>\n",
       "      <td>1</td>\n",
       "      <td>0</td>\n",
       "      <td>cellular</td>\n",
       "      <td>aug</td>\n",
       "      <td>thu</td>\n",
       "      <td>...</td>\n",
       "      <td>1</td>\n",
       "      <td>999</td>\n",
       "      <td>0</td>\n",
       "      <td>nonexistent</td>\n",
       "      <td>1.4</td>\n",
       "      <td>93.444</td>\n",
       "      <td>-36.1</td>\n",
       "      <td>4.963</td>\n",
       "      <td>5228.1</td>\n",
       "      <td>0</td>\n",
       "    </tr>\n",
       "    <tr>\n",
       "      <th>1</th>\n",
       "      <td>53</td>\n",
       "      <td>technician</td>\n",
       "      <td>married</td>\n",
       "      <td>higher</td>\n",
       "      <td>0</td>\n",
       "      <td>0</td>\n",
       "      <td>0</td>\n",
       "      <td>cellular</td>\n",
       "      <td>nov</td>\n",
       "      <td>fri</td>\n",
       "      <td>...</td>\n",
       "      <td>1</td>\n",
       "      <td>999</td>\n",
       "      <td>0</td>\n",
       "      <td>nonexistent</td>\n",
       "      <td>-0.1</td>\n",
       "      <td>93.200</td>\n",
       "      <td>-42.0</td>\n",
       "      <td>4.021</td>\n",
       "      <td>5195.8</td>\n",
       "      <td>0</td>\n",
       "    </tr>\n",
       "    <tr>\n",
       "      <th>2</th>\n",
       "      <td>28</td>\n",
       "      <td>management</td>\n",
       "      <td>single</td>\n",
       "      <td>higher</td>\n",
       "      <td>0</td>\n",
       "      <td>1</td>\n",
       "      <td>0</td>\n",
       "      <td>cellular</td>\n",
       "      <td>jun</td>\n",
       "      <td>thu</td>\n",
       "      <td>...</td>\n",
       "      <td>3</td>\n",
       "      <td>6</td>\n",
       "      <td>2</td>\n",
       "      <td>success</td>\n",
       "      <td>-1.7</td>\n",
       "      <td>94.055</td>\n",
       "      <td>-39.8</td>\n",
       "      <td>0.729</td>\n",
       "      <td>4991.6</td>\n",
       "      <td>1</td>\n",
       "    </tr>\n",
       "    <tr>\n",
       "      <th>3</th>\n",
       "      <td>39</td>\n",
       "      <td>services</td>\n",
       "      <td>married</td>\n",
       "      <td>higher</td>\n",
       "      <td>0</td>\n",
       "      <td>0</td>\n",
       "      <td>0</td>\n",
       "      <td>cellular</td>\n",
       "      <td>apr</td>\n",
       "      <td>fri</td>\n",
       "      <td>...</td>\n",
       "      <td>2</td>\n",
       "      <td>999</td>\n",
       "      <td>0</td>\n",
       "      <td>nonexistent</td>\n",
       "      <td>-1.8</td>\n",
       "      <td>93.075</td>\n",
       "      <td>-47.1</td>\n",
       "      <td>1.405</td>\n",
       "      <td>5099.1</td>\n",
       "      <td>0</td>\n",
       "    </tr>\n",
       "    <tr>\n",
       "      <th>4</th>\n",
       "      <td>55</td>\n",
       "      <td>retired</td>\n",
       "      <td>married</td>\n",
       "      <td>Basic</td>\n",
       "      <td>0</td>\n",
       "      <td>1</td>\n",
       "      <td>0</td>\n",
       "      <td>cellular</td>\n",
       "      <td>aug</td>\n",
       "      <td>fri</td>\n",
       "      <td>...</td>\n",
       "      <td>1</td>\n",
       "      <td>3</td>\n",
       "      <td>1</td>\n",
       "      <td>success</td>\n",
       "      <td>-2.9</td>\n",
       "      <td>92.201</td>\n",
       "      <td>-31.4</td>\n",
       "      <td>0.869</td>\n",
       "      <td>5076.2</td>\n",
       "      <td>1</td>\n",
       "    </tr>\n",
       "  </tbody>\n",
       "</table>\n",
       "<p>5 rows × 21 columns</p>\n",
       "</div>"
      ],
      "text/plain": [
       "   age          job  marital education  default  housing  loan   contact  \\\n",
       "0   44  blue-collar  married     Basic        0        1     0  cellular   \n",
       "1   53   technician  married    higher        0        0     0  cellular   \n",
       "2   28   management   single    higher        0        1     0  cellular   \n",
       "3   39     services  married    higher        0        0     0  cellular   \n",
       "4   55      retired  married     Basic        0        1     0  cellular   \n",
       "\n",
       "  month day_of_week  ...  campaign  pdays  previous     poutcome emp_var_rate  \\\n",
       "0   aug         thu  ...         1    999         0  nonexistent          1.4   \n",
       "1   nov         fri  ...         1    999         0  nonexistent         -0.1   \n",
       "2   jun         thu  ...         3      6         2      success         -1.7   \n",
       "3   apr         fri  ...         2    999         0  nonexistent         -1.8   \n",
       "4   aug         fri  ...         1      3         1      success         -2.9   \n",
       "\n",
       "   cons_price_idx  cons_conf_idx  euribor3m  nr_employed  y  \n",
       "0          93.444          -36.1      4.963       5228.1  0  \n",
       "1          93.200          -42.0      4.021       5195.8  0  \n",
       "2          94.055          -39.8      0.729       4991.6  1  \n",
       "3          93.075          -47.1      1.405       5099.1  0  \n",
       "4          92.201          -31.4      0.869       5076.2  1  \n",
       "\n",
       "[5 rows x 21 columns]"
      ]
     },
     "execution_count": 22,
     "metadata": {},
     "output_type": "execute_result"
    }
   ],
   "source": [
    "data.head()"
   ]
  },
  {
   "cell_type": "markdown",
   "id": "56fd000a",
   "metadata": {},
   "source": [
    "## 5. Exploratory Data Analysis"
   ]
  },
  {
   "cell_type": "markdown",
   "id": "09842df5",
   "metadata": {},
   "source": [
    "### 5.1 Statement of common sense baseline\n",
    "\n",
    "Because I want to predict if the customer will subscribe to the marketting campaign of the bank. First, in this section, I am going to explore the dataset and to seee that in which categorical columns that can best describe the outcome of this marketing campaign. "
   ]
  },
  {
   "cell_type": "code",
   "execution_count": 23,
   "id": "931d87cb",
   "metadata": {},
   "outputs": [],
   "source": [
    "#To display numerical feature distribution\n",
    "\n",
    "#data.hist(figsize=(18,15))"
   ]
  },
  {
   "cell_type": "code",
   "execution_count": 24,
   "id": "79a83760",
   "metadata": {},
   "outputs": [],
   "source": [
    "#To see percentage of client subscribed a term deposit\n",
    "\n",
    "count_no = len(data[data['y']==0])\n",
    "count_yes = len(data[data['y']==1])\n",
    "count_no_percent = (count_no/(count_no+count_yes))*100\n",
    "count_yes_percent = (count_yes/(count_no+count_yes))*100"
   ]
  },
  {
   "cell_type": "code",
   "execution_count": 25,
   "id": "1df2aaec",
   "metadata": {},
   "outputs": [
    {
     "name": "stdout",
     "output_type": "stream",
     "text": [
      "88.73458288821988\n",
      "11.265417111780131\n"
     ]
    },
    {
     "data": {
      "text/plain": [
       "(None, None)"
      ]
     },
     "execution_count": 25,
     "metadata": {},
     "output_type": "execute_result"
    }
   ],
   "source": [
    "print(count_no_percent), print(count_yes_percent)"
   ]
  },
  {
   "cell_type": "markdown",
   "id": "771db2b8",
   "metadata": {},
   "source": [
    "The percentage calculations show that there are more number of people who will not subscribe to the campaign than people who will say yes to the campaign."
   ]
  },
  {
   "cell_type": "code",
   "execution_count": 26,
   "id": "2074afe5",
   "metadata": {},
   "outputs": [
    {
     "data": {
      "text/html": [
       "<div>\n",
       "<style scoped>\n",
       "    .dataframe tbody tr th:only-of-type {\n",
       "        vertical-align: middle;\n",
       "    }\n",
       "\n",
       "    .dataframe tbody tr th {\n",
       "        vertical-align: top;\n",
       "    }\n",
       "\n",
       "    .dataframe thead th {\n",
       "        text-align: right;\n",
       "    }\n",
       "</style>\n",
       "<table border=\"1\" class=\"dataframe\">\n",
       "  <thead>\n",
       "    <tr style=\"text-align: right;\">\n",
       "      <th></th>\n",
       "      <th>age</th>\n",
       "      <th>default</th>\n",
       "      <th>housing</th>\n",
       "      <th>loan</th>\n",
       "      <th>duration</th>\n",
       "      <th>campaign</th>\n",
       "      <th>pdays</th>\n",
       "      <th>previous</th>\n",
       "      <th>emp_var_rate</th>\n",
       "      <th>cons_price_idx</th>\n",
       "      <th>cons_conf_idx</th>\n",
       "      <th>euribor3m</th>\n",
       "      <th>nr_employed</th>\n",
       "    </tr>\n",
       "    <tr>\n",
       "      <th>y</th>\n",
       "      <th></th>\n",
       "      <th></th>\n",
       "      <th></th>\n",
       "      <th></th>\n",
       "      <th></th>\n",
       "      <th></th>\n",
       "      <th></th>\n",
       "      <th></th>\n",
       "      <th></th>\n",
       "      <th></th>\n",
       "      <th></th>\n",
       "      <th></th>\n",
       "      <th></th>\n",
       "    </tr>\n",
       "  </thead>\n",
       "  <tbody>\n",
       "    <tr>\n",
       "      <th>0</th>\n",
       "      <td>39.911185</td>\n",
       "      <td>0.000082</td>\n",
       "      <td>0.545912</td>\n",
       "      <td>0.152266</td>\n",
       "      <td>220.844807</td>\n",
       "      <td>2.633085</td>\n",
       "      <td>984.113878</td>\n",
       "      <td>0.132374</td>\n",
       "      <td>0.248875</td>\n",
       "      <td>93.603757</td>\n",
       "      <td>-40.593097</td>\n",
       "      <td>3.811491</td>\n",
       "      <td>5176.166600</td>\n",
       "    </tr>\n",
       "    <tr>\n",
       "      <th>1</th>\n",
       "      <td>40.913147</td>\n",
       "      <td>0.000000</td>\n",
       "      <td>0.563362</td>\n",
       "      <td>0.147198</td>\n",
       "      <td>553.191164</td>\n",
       "      <td>2.051724</td>\n",
       "      <td>792.035560</td>\n",
       "      <td>0.492672</td>\n",
       "      <td>-1.233448</td>\n",
       "      <td>93.354386</td>\n",
       "      <td>-39.789784</td>\n",
       "      <td>2.123135</td>\n",
       "      <td>5095.115991</td>\n",
       "    </tr>\n",
       "  </tbody>\n",
       "</table>\n",
       "</div>"
      ],
      "text/plain": [
       "         age   default   housing      loan    duration  campaign       pdays  \\\n",
       "y                                                                              \n",
       "0  39.911185  0.000082  0.545912  0.152266  220.844807  2.633085  984.113878   \n",
       "1  40.913147  0.000000  0.563362  0.147198  553.191164  2.051724  792.035560   \n",
       "\n",
       "   previous  emp_var_rate  cons_price_idx  cons_conf_idx  euribor3m  \\\n",
       "y                                                                     \n",
       "0  0.132374      0.248875       93.603757     -40.593097   3.811491   \n",
       "1  0.492672     -1.233448       93.354386     -39.789784   2.123135   \n",
       "\n",
       "   nr_employed  \n",
       "y               \n",
       "0  5176.166600  \n",
       "1  5095.115991  "
      ]
     },
     "execution_count": 26,
     "metadata": {},
     "output_type": "execute_result"
    }
   ],
   "source": [
    "#To see mean of column 'y'\n",
    "data.groupby('y').mean()"
   ]
  },
  {
   "cell_type": "markdown",
   "id": "01085a7e",
   "metadata": {},
   "source": [
    "Comments;\n",
    "- The age of client who subscribe to a term deposit is higher than people who do not subscribe.\n",
    "\n",
    "\n",
    "- Clients who will not subscribe to the marketing campaign do not contact back after being contacted since the last campaign as it can be seen from the higher number of pdays.\n",
    "\n",
    "\n",
    "- Both subsriptive and non-subscriptive people have personal loan\n",
    "\n",
    "\n",
    "- On the contrary, average number of contacts performed during this campaign by the bank for subscriptive clients is lower than non-subscriptive client.\n"
   ]
  },
  {
   "cell_type": "markdown",
   "id": "088a6f81",
   "metadata": {},
   "source": [
    "### 5.2 To get more insights of the data"
   ]
  },
  {
   "cell_type": "code",
   "execution_count": 27,
   "id": "87787f2c",
   "metadata": {},
   "outputs": [
    {
     "data": {
      "text/plain": [
       "<matplotlib.legend.Legend at 0x7fdb1612c940>"
      ]
     },
     "execution_count": 27,
     "metadata": {},
     "output_type": "execute_result"
    },
    {
     "data": {
      "image/png": "[encoded data removed]",
      "text/plain": [
       "<Figure size 1080x720 with 1 Axes>"
      ]
     },
     "metadata": {
      "needs_background": "light"
     },
     "output_type": "display_data"
    }
   ],
   "source": [
    "#Column job and y will be visualized by using a plot, because job can be a good predictor of frequency of purchaing\n",
    "\n",
    "crosstab = pd.crosstab(data.job, data.y)\n",
    "barplt = crosstab.plot.bar(rot=0, figsize=(15, 10), title=\"Plot of job vs clients subcribe to a term deposits\")\n",
    "barplt.legend(bbox_to_anchor=(1, 1.02),loc='upper left')"
   ]
  },
  {
   "cell_type": "markdown",
   "id": "891bd4ef",
   "metadata": {},
   "source": [
    "- It can be seen that most people will not subsribe to the term deposit as the bar plots of not subscribe is hogher than subcribe. "
   ]
  },
  {
   "cell_type": "code",
   "execution_count": 28,
   "id": "6b370694",
   "metadata": {
    "scrolled": false
   },
   "outputs": [
    {
     "data": {
      "text/plain": [
       "Text(0.5, 1.0, 'Histogram plot of different age groups')"
      ]
     },
     "execution_count": 28,
     "metadata": {},
     "output_type": "execute_result"
    },
    {
     "data": {
      "image/png": "[encoded data removed]",
      "text/plain": [
       "<Figure size 576x360 with 1 Axes>"
      ]
     },
     "metadata": {
      "needs_background": "light"
     },
     "output_type": "display_data"
    }
   ],
   "source": [
    "#To visualize column 'age' using histogram, as people indifferent age have different preferration for purchasing \n",
    "\n",
    "\n",
    "data.age.hist(figsize = (8,5))\n",
    "plt.legend([\"age\"])\n",
    "plt.title(\"Histogram plot of different age groups\")"
   ]
  },
  {
   "cell_type": "markdown",
   "id": "a1f3ff79",
   "metadata": {},
   "source": [
    "- From the histograms, majority of people in the dataset are in the ages between mid 20 years old to 60 years old"
   ]
  },
  {
   "cell_type": "code",
   "execution_count": 29,
   "id": "5b3a72df",
   "metadata": {},
   "outputs": [
    {
     "data": {
      "image/png": "[encoded data removed]",
      "text/plain": [
       "<Figure size 576x360 with 1 Axes>"
      ]
     },
     "metadata": {
      "needs_background": "light"
     },
     "output_type": "display_data"
    }
   ],
   "source": [
    "#Education could also be a good predictor \n",
    "\n",
    "crosstb = pd.crosstab(df.education, df.y)\n",
    "plt = crosstb.plot(kind=\"bar\", stacked=True, rot=0, figsize = (8,5), title=\"Barplot of education groups\")\n"
   ]
  },
  {
   "cell_type": "markdown",
   "id": "aa60c5e1",
   "metadata": {},
   "source": [
    "- From the chart, people who has either basic education and higher education tend to not subscribe for the term deposits campaign"
   ]
  },
  {
   "cell_type": "code",
   "execution_count": 30,
   "id": "5f23fec5",
   "metadata": {},
   "outputs": [
    {
     "data": {
      "text/html": [
       "<div>\n",
       "<style scoped>\n",
       "    .dataframe tbody tr th:only-of-type {\n",
       "        vertical-align: middle;\n",
       "    }\n",
       "\n",
       "    .dataframe tbody tr th {\n",
       "        vertical-align: top;\n",
       "    }\n",
       "\n",
       "    .dataframe thead th {\n",
       "        text-align: right;\n",
       "    }\n",
       "</style>\n",
       "<table border=\"1\" class=\"dataframe\">\n",
       "  <thead>\n",
       "    <tr style=\"text-align: right;\">\n",
       "      <th></th>\n",
       "      <th>age</th>\n",
       "      <th>default</th>\n",
       "      <th>housing</th>\n",
       "      <th>loan</th>\n",
       "      <th>duration</th>\n",
       "      <th>campaign</th>\n",
       "      <th>pdays</th>\n",
       "      <th>previous</th>\n",
       "      <th>emp_var_rate</th>\n",
       "      <th>cons_price_idx</th>\n",
       "      <th>cons_conf_idx</th>\n",
       "      <th>euribor3m</th>\n",
       "      <th>nr_employed</th>\n",
       "      <th>y</th>\n",
       "    </tr>\n",
       "  </thead>\n",
       "  <tbody>\n",
       "    <tr>\n",
       "      <th>age</th>\n",
       "      <td>1.000000</td>\n",
       "      <td>0.001891</td>\n",
       "      <td>-0.001755</td>\n",
       "      <td>-0.007198</td>\n",
       "      <td>-0.000866</td>\n",
       "      <td>0.004594</td>\n",
       "      <td>-0.034369</td>\n",
       "      <td>0.024365</td>\n",
       "      <td>-0.000371</td>\n",
       "      <td>0.000857</td>\n",
       "      <td>0.129372</td>\n",
       "      <td>0.010767</td>\n",
       "      <td>-0.017725</td>\n",
       "      <td>0.030399</td>\n",
       "    </tr>\n",
       "    <tr>\n",
       "      <th>default</th>\n",
       "      <td>0.001891</td>\n",
       "      <td>1.000000</td>\n",
       "      <td>-0.003679</td>\n",
       "      <td>-0.003609</td>\n",
       "      <td>-0.005101</td>\n",
       "      <td>-0.003803</td>\n",
       "      <td>0.001668</td>\n",
       "      <td>0.002766</td>\n",
       "      <td>0.004445</td>\n",
       "      <td>-0.003141</td>\n",
       "      <td>0.004492</td>\n",
       "      <td>0.005274</td>\n",
       "      <td>0.005941</td>\n",
       "      <td>-0.003041</td>\n",
       "    </tr>\n",
       "    <tr>\n",
       "      <th>housing</th>\n",
       "      <td>-0.001755</td>\n",
       "      <td>-0.003679</td>\n",
       "      <td>1.000000</td>\n",
       "      <td>0.036425</td>\n",
       "      <td>-0.008334</td>\n",
       "      <td>-0.010959</td>\n",
       "      <td>-0.010131</td>\n",
       "      <td>0.021677</td>\n",
       "      <td>-0.059100</td>\n",
       "      <td>-0.077170</td>\n",
       "      <td>-0.032388</td>\n",
       "      <td>-0.058233</td>\n",
       "      <td>-0.045590</td>\n",
       "      <td>0.011085</td>\n",
       "    </tr>\n",
       "    <tr>\n",
       "      <th>loan</th>\n",
       "      <td>-0.007198</td>\n",
       "      <td>-0.003609</td>\n",
       "      <td>0.036425</td>\n",
       "      <td>1.000000</td>\n",
       "      <td>0.000121</td>\n",
       "      <td>0.005294</td>\n",
       "      <td>-0.000086</td>\n",
       "      <td>-0.002143</td>\n",
       "      <td>0.001193</td>\n",
       "      <td>-0.005944</td>\n",
       "      <td>-0.013673</td>\n",
       "      <td>-0.000487</td>\n",
       "      <td>0.004205</td>\n",
       "      <td>-0.004466</td>\n",
       "    </tr>\n",
       "    <tr>\n",
       "      <th>duration</th>\n",
       "      <td>-0.000866</td>\n",
       "      <td>-0.005101</td>\n",
       "      <td>-0.008334</td>\n",
       "      <td>0.000121</td>\n",
       "      <td>1.000000</td>\n",
       "      <td>-0.071699</td>\n",
       "      <td>-0.047577</td>\n",
       "      <td>0.020640</td>\n",
       "      <td>-0.027968</td>\n",
       "      <td>0.005312</td>\n",
       "      <td>-0.008173</td>\n",
       "      <td>-0.032897</td>\n",
       "      <td>-0.044703</td>\n",
       "      <td>0.405274</td>\n",
       "    </tr>\n",
       "    <tr>\n",
       "      <th>campaign</th>\n",
       "      <td>0.004594</td>\n",
       "      <td>-0.003803</td>\n",
       "      <td>-0.010959</td>\n",
       "      <td>0.005294</td>\n",
       "      <td>-0.071699</td>\n",
       "      <td>1.000000</td>\n",
       "      <td>0.052584</td>\n",
       "      <td>-0.079141</td>\n",
       "      <td>0.150754</td>\n",
       "      <td>0.127836</td>\n",
       "      <td>-0.013733</td>\n",
       "      <td>0.135133</td>\n",
       "      <td>0.144095</td>\n",
       "      <td>-0.066357</td>\n",
       "    </tr>\n",
       "    <tr>\n",
       "      <th>pdays</th>\n",
       "      <td>-0.034369</td>\n",
       "      <td>0.001668</td>\n",
       "      <td>-0.010131</td>\n",
       "      <td>-0.000086</td>\n",
       "      <td>-0.047577</td>\n",
       "      <td>0.052584</td>\n",
       "      <td>1.000000</td>\n",
       "      <td>-0.587514</td>\n",
       "      <td>0.271004</td>\n",
       "      <td>0.078889</td>\n",
       "      <td>-0.091342</td>\n",
       "      <td>0.296899</td>\n",
       "      <td>0.372605</td>\n",
       "      <td>-0.324914</td>\n",
       "    </tr>\n",
       "    <tr>\n",
       "      <th>previous</th>\n",
       "      <td>0.024365</td>\n",
       "      <td>0.002766</td>\n",
       "      <td>0.021677</td>\n",
       "      <td>-0.002143</td>\n",
       "      <td>0.020640</td>\n",
       "      <td>-0.079141</td>\n",
       "      <td>-0.587514</td>\n",
       "      <td>1.000000</td>\n",
       "      <td>-0.420489</td>\n",
       "      <td>-0.203130</td>\n",
       "      <td>-0.050936</td>\n",
       "      <td>-0.454494</td>\n",
       "      <td>-0.501333</td>\n",
       "      <td>0.230181</td>\n",
       "    </tr>\n",
       "    <tr>\n",
       "      <th>emp_var_rate</th>\n",
       "      <td>-0.000371</td>\n",
       "      <td>0.004445</td>\n",
       "      <td>-0.059100</td>\n",
       "      <td>0.001193</td>\n",
       "      <td>-0.027968</td>\n",
       "      <td>0.150754</td>\n",
       "      <td>0.271004</td>\n",
       "      <td>-0.420489</td>\n",
       "      <td>1.000000</td>\n",
       "      <td>0.775334</td>\n",
       "      <td>0.196041</td>\n",
       "      <td>0.972245</td>\n",
       "      <td>0.906970</td>\n",
       "      <td>-0.298334</td>\n",
       "    </tr>\n",
       "    <tr>\n",
       "      <th>cons_price_idx</th>\n",
       "      <td>0.000857</td>\n",
       "      <td>-0.003141</td>\n",
       "      <td>-0.077170</td>\n",
       "      <td>-0.005944</td>\n",
       "      <td>0.005312</td>\n",
       "      <td>0.127836</td>\n",
       "      <td>0.078889</td>\n",
       "      <td>-0.203130</td>\n",
       "      <td>0.775334</td>\n",
       "      <td>1.000000</td>\n",
       "      <td>0.058986</td>\n",
       "      <td>0.688230</td>\n",
       "      <td>0.522034</td>\n",
       "      <td>-0.136211</td>\n",
       "    </tr>\n",
       "    <tr>\n",
       "      <th>cons_conf_idx</th>\n",
       "      <td>0.129372</td>\n",
       "      <td>0.004492</td>\n",
       "      <td>-0.032388</td>\n",
       "      <td>-0.013673</td>\n",
       "      <td>-0.008173</td>\n",
       "      <td>-0.013733</td>\n",
       "      <td>-0.091342</td>\n",
       "      <td>-0.050936</td>\n",
       "      <td>0.196041</td>\n",
       "      <td>0.058986</td>\n",
       "      <td>1.000000</td>\n",
       "      <td>0.277686</td>\n",
       "      <td>0.100513</td>\n",
       "      <td>0.054878</td>\n",
       "    </tr>\n",
       "    <tr>\n",
       "      <th>euribor3m</th>\n",
       "      <td>0.010767</td>\n",
       "      <td>0.005274</td>\n",
       "      <td>-0.058233</td>\n",
       "      <td>-0.000487</td>\n",
       "      <td>-0.032897</td>\n",
       "      <td>0.135133</td>\n",
       "      <td>0.296899</td>\n",
       "      <td>-0.454494</td>\n",
       "      <td>0.972245</td>\n",
       "      <td>0.688230</td>\n",
       "      <td>0.277686</td>\n",
       "      <td>1.000000</td>\n",
       "      <td>0.945154</td>\n",
       "      <td>-0.307771</td>\n",
       "    </tr>\n",
       "    <tr>\n",
       "      <th>nr_employed</th>\n",
       "      <td>-0.017725</td>\n",
       "      <td>0.005941</td>\n",
       "      <td>-0.045590</td>\n",
       "      <td>0.004205</td>\n",
       "      <td>-0.044703</td>\n",
       "      <td>0.144095</td>\n",
       "      <td>0.372605</td>\n",
       "      <td>-0.501333</td>\n",
       "      <td>0.906970</td>\n",
       "      <td>0.522034</td>\n",
       "      <td>0.100513</td>\n",
       "      <td>0.945154</td>\n",
       "      <td>1.000000</td>\n",
       "      <td>-0.354678</td>\n",
       "    </tr>\n",
       "    <tr>\n",
       "      <th>y</th>\n",
       "      <td>0.030399</td>\n",
       "      <td>-0.003041</td>\n",
       "      <td>0.011085</td>\n",
       "      <td>-0.004466</td>\n",
       "      <td>0.405274</td>\n",
       "      <td>-0.066357</td>\n",
       "      <td>-0.324914</td>\n",
       "      <td>0.230181</td>\n",
       "      <td>-0.298334</td>\n",
       "      <td>-0.136211</td>\n",
       "      <td>0.054878</td>\n",
       "      <td>-0.307771</td>\n",
       "      <td>-0.354678</td>\n",
       "      <td>1.000000</td>\n",
       "    </tr>\n",
       "  </tbody>\n",
       "</table>\n",
       "</div>"
      ],
      "text/plain": [
       "                     age   default   housing      loan  duration  campaign  \\\n",
       "age             1.000000  0.001891 -0.001755 -0.007198 -0.000866  0.004594   \n",
       "default         0.001891  1.000000 -0.003679 -0.003609 -0.005101 -0.003803   \n",
       "housing        -0.001755 -0.003679  1.000000  0.036425 -0.008334 -0.010959   \n",
       "loan           -0.007198 -0.003609  0.036425  1.000000  0.000121  0.005294   \n",
       "duration       -0.000866 -0.005101 -0.008334  0.000121  1.000000 -0.071699   \n",
       "campaign        0.004594 -0.003803 -0.010959  0.005294 -0.071699  1.000000   \n",
       "pdays          -0.034369  0.001668 -0.010131 -0.000086 -0.047577  0.052584   \n",
       "previous        0.024365  0.002766  0.021677 -0.002143  0.020640 -0.079141   \n",
       "emp_var_rate   -0.000371  0.004445 -0.059100  0.001193 -0.027968  0.150754   \n",
       "cons_price_idx  0.000857 -0.003141 -0.077170 -0.005944  0.005312  0.127836   \n",
       "cons_conf_idx   0.129372  0.004492 -0.032388 -0.013673 -0.008173 -0.013733   \n",
       "euribor3m       0.010767  0.005274 -0.058233 -0.000487 -0.032897  0.135133   \n",
       "nr_employed    -0.017725  0.005941 -0.045590  0.004205 -0.044703  0.144095   \n",
       "y               0.030399 -0.003041  0.011085 -0.004466  0.405274 -0.066357   \n",
       "\n",
       "                   pdays  previous  emp_var_rate  cons_price_idx  \\\n",
       "age            -0.034369  0.024365     -0.000371        0.000857   \n",
       "default         0.001668  0.002766      0.004445       -0.003141   \n",
       "housing        -0.010131  0.021677     -0.059100       -0.077170   \n",
       "loan           -0.000086 -0.002143      0.001193       -0.005944   \n",
       "duration       -0.047577  0.020640     -0.027968        0.005312   \n",
       "campaign        0.052584 -0.079141      0.150754        0.127836   \n",
       "pdays           1.000000 -0.587514      0.271004        0.078889   \n",
       "previous       -0.587514  1.000000     -0.420489       -0.203130   \n",
       "emp_var_rate    0.271004 -0.420489      1.000000        0.775334   \n",
       "cons_price_idx  0.078889 -0.203130      0.775334        1.000000   \n",
       "cons_conf_idx  -0.091342 -0.050936      0.196041        0.058986   \n",
       "euribor3m       0.296899 -0.454494      0.972245        0.688230   \n",
       "nr_employed     0.372605 -0.501333      0.906970        0.522034   \n",
       "y              -0.324914  0.230181     -0.298334       -0.136211   \n",
       "\n",
       "                cons_conf_idx  euribor3m  nr_employed         y  \n",
       "age                  0.129372   0.010767    -0.017725  0.030399  \n",
       "default              0.004492   0.005274     0.005941 -0.003041  \n",
       "housing             -0.032388  -0.058233    -0.045590  0.011085  \n",
       "loan                -0.013673  -0.000487     0.004205 -0.004466  \n",
       "duration            -0.008173  -0.032897    -0.044703  0.405274  \n",
       "campaign            -0.013733   0.135133     0.144095 -0.066357  \n",
       "pdays               -0.091342   0.296899     0.372605 -0.324914  \n",
       "previous            -0.050936  -0.454494    -0.501333  0.230181  \n",
       "emp_var_rate         0.196041   0.972245     0.906970 -0.298334  \n",
       "cons_price_idx       0.058986   0.688230     0.522034 -0.136211  \n",
       "cons_conf_idx        1.000000   0.277686     0.100513  0.054878  \n",
       "euribor3m            0.277686   1.000000     0.945154 -0.307771  \n",
       "nr_employed          0.100513   0.945154     1.000000 -0.354678  \n",
       "y                    0.054878  -0.307771    -0.354678  1.000000  "
      ]
     },
     "execution_count": 30,
     "metadata": {},
     "output_type": "execute_result"
    }
   ],
   "source": [
    "#To correlate data to exhibit r2 value\n",
    "data_corr = data.corr()\n",
    "data_corr"
   ]
  },
  {
   "cell_type": "code",
   "execution_count": 31,
   "id": "69133343",
   "metadata": {},
   "outputs": [
    {
     "data": {
      "image/png": "[encoded data removed]",
      "text/plain": [
       "<Figure size 1152x360 with 2 Axes>"
      ]
     },
     "metadata": {
      "needs_background": "light"
     },
     "output_type": "display_data"
    }
   ],
   "source": [
    "import matplotlib.pyplot as plt\n",
    "plt.figure(figsize = (16,5))\n",
    "sns.heatmap(data_corr, annot = True);"
   ]
  },
  {
   "cell_type": "markdown",
   "id": "bb962b9a",
   "metadata": {},
   "source": [
    "## 6. Train test data"
   ]
  },
  {
   "cell_type": "markdown",
   "id": "f7d46c89",
   "metadata": {},
   "source": [
    "### 6.1 To prepare data for train test "
   ]
  },
  {
   "cell_type": "code",
   "execution_count": 32,
   "id": "1a45e74e",
   "metadata": {},
   "outputs": [
    {
     "data": {
      "text/html": [
       "<div>\n",
       "<style scoped>\n",
       "    .dataframe tbody tr th:only-of-type {\n",
       "        vertical-align: middle;\n",
       "    }\n",
       "\n",
       "    .dataframe tbody tr th {\n",
       "        vertical-align: top;\n",
       "    }\n",
       "\n",
       "    .dataframe thead th {\n",
       "        text-align: right;\n",
       "    }\n",
       "</style>\n",
       "<table border=\"1\" class=\"dataframe\">\n",
       "  <thead>\n",
       "    <tr style=\"text-align: right;\">\n",
       "      <th></th>\n",
       "      <th>age</th>\n",
       "      <th>default</th>\n",
       "      <th>housing</th>\n",
       "      <th>loan</th>\n",
       "      <th>duration</th>\n",
       "      <th>campaign</th>\n",
       "      <th>pdays</th>\n",
       "      <th>previous</th>\n",
       "      <th>emp_var_rate</th>\n",
       "      <th>cons_price_idx</th>\n",
       "      <th>cons_conf_idx</th>\n",
       "      <th>euribor3m</th>\n",
       "      <th>nr_employed</th>\n",
       "      <th>y</th>\n",
       "    </tr>\n",
       "  </thead>\n",
       "  <tbody>\n",
       "    <tr>\n",
       "      <th>0</th>\n",
       "      <td>44</td>\n",
       "      <td>0</td>\n",
       "      <td>1</td>\n",
       "      <td>0</td>\n",
       "      <td>210</td>\n",
       "      <td>1</td>\n",
       "      <td>999</td>\n",
       "      <td>0</td>\n",
       "      <td>1.4</td>\n",
       "      <td>93.444</td>\n",
       "      <td>-36.1</td>\n",
       "      <td>4.963</td>\n",
       "      <td>5228.1</td>\n",
       "      <td>0</td>\n",
       "    </tr>\n",
       "    <tr>\n",
       "      <th>1</th>\n",
       "      <td>53</td>\n",
       "      <td>0</td>\n",
       "      <td>0</td>\n",
       "      <td>0</td>\n",
       "      <td>138</td>\n",
       "      <td>1</td>\n",
       "      <td>999</td>\n",
       "      <td>0</td>\n",
       "      <td>-0.1</td>\n",
       "      <td>93.200</td>\n",
       "      <td>-42.0</td>\n",
       "      <td>4.021</td>\n",
       "      <td>5195.8</td>\n",
       "      <td>0</td>\n",
       "    </tr>\n",
       "    <tr>\n",
       "      <th>2</th>\n",
       "      <td>28</td>\n",
       "      <td>0</td>\n",
       "      <td>1</td>\n",
       "      <td>0</td>\n",
       "      <td>339</td>\n",
       "      <td>3</td>\n",
       "      <td>6</td>\n",
       "      <td>2</td>\n",
       "      <td>-1.7</td>\n",
       "      <td>94.055</td>\n",
       "      <td>-39.8</td>\n",
       "      <td>0.729</td>\n",
       "      <td>4991.6</td>\n",
       "      <td>1</td>\n",
       "    </tr>\n",
       "    <tr>\n",
       "      <th>3</th>\n",
       "      <td>39</td>\n",
       "      <td>0</td>\n",
       "      <td>0</td>\n",
       "      <td>0</td>\n",
       "      <td>185</td>\n",
       "      <td>2</td>\n",
       "      <td>999</td>\n",
       "      <td>0</td>\n",
       "      <td>-1.8</td>\n",
       "      <td>93.075</td>\n",
       "      <td>-47.1</td>\n",
       "      <td>1.405</td>\n",
       "      <td>5099.1</td>\n",
       "      <td>0</td>\n",
       "    </tr>\n",
       "    <tr>\n",
       "      <th>4</th>\n",
       "      <td>55</td>\n",
       "      <td>0</td>\n",
       "      <td>1</td>\n",
       "      <td>0</td>\n",
       "      <td>137</td>\n",
       "      <td>1</td>\n",
       "      <td>3</td>\n",
       "      <td>1</td>\n",
       "      <td>-2.9</td>\n",
       "      <td>92.201</td>\n",
       "      <td>-31.4</td>\n",
       "      <td>0.869</td>\n",
       "      <td>5076.2</td>\n",
       "      <td>1</td>\n",
       "    </tr>\n",
       "    <tr>\n",
       "      <th>...</th>\n",
       "      <td>...</td>\n",
       "      <td>...</td>\n",
       "      <td>...</td>\n",
       "      <td>...</td>\n",
       "      <td>...</td>\n",
       "      <td>...</td>\n",
       "      <td>...</td>\n",
       "      <td>...</td>\n",
       "      <td>...</td>\n",
       "      <td>...</td>\n",
       "      <td>...</td>\n",
       "      <td>...</td>\n",
       "      <td>...</td>\n",
       "      <td>...</td>\n",
       "    </tr>\n",
       "    <tr>\n",
       "      <th>41183</th>\n",
       "      <td>59</td>\n",
       "      <td>0</td>\n",
       "      <td>0</td>\n",
       "      <td>1</td>\n",
       "      <td>222</td>\n",
       "      <td>1</td>\n",
       "      <td>999</td>\n",
       "      <td>0</td>\n",
       "      <td>1.4</td>\n",
       "      <td>94.465</td>\n",
       "      <td>-41.8</td>\n",
       "      <td>4.866</td>\n",
       "      <td>5228.1</td>\n",
       "      <td>0</td>\n",
       "    </tr>\n",
       "    <tr>\n",
       "      <th>41184</th>\n",
       "      <td>31</td>\n",
       "      <td>0</td>\n",
       "      <td>0</td>\n",
       "      <td>0</td>\n",
       "      <td>196</td>\n",
       "      <td>2</td>\n",
       "      <td>999</td>\n",
       "      <td>0</td>\n",
       "      <td>1.1</td>\n",
       "      <td>93.994</td>\n",
       "      <td>-36.4</td>\n",
       "      <td>4.860</td>\n",
       "      <td>5191.0</td>\n",
       "      <td>0</td>\n",
       "    </tr>\n",
       "    <tr>\n",
       "      <th>41185</th>\n",
       "      <td>42</td>\n",
       "      <td>0</td>\n",
       "      <td>1</td>\n",
       "      <td>1</td>\n",
       "      <td>62</td>\n",
       "      <td>3</td>\n",
       "      <td>999</td>\n",
       "      <td>0</td>\n",
       "      <td>1.1</td>\n",
       "      <td>93.994</td>\n",
       "      <td>-36.4</td>\n",
       "      <td>4.857</td>\n",
       "      <td>5191.0</td>\n",
       "      <td>0</td>\n",
       "    </tr>\n",
       "    <tr>\n",
       "      <th>41186</th>\n",
       "      <td>48</td>\n",
       "      <td>0</td>\n",
       "      <td>0</td>\n",
       "      <td>1</td>\n",
       "      <td>200</td>\n",
       "      <td>2</td>\n",
       "      <td>999</td>\n",
       "      <td>0</td>\n",
       "      <td>-3.4</td>\n",
       "      <td>92.431</td>\n",
       "      <td>-26.9</td>\n",
       "      <td>0.742</td>\n",
       "      <td>5017.5</td>\n",
       "      <td>0</td>\n",
       "    </tr>\n",
       "    <tr>\n",
       "      <th>41187</th>\n",
       "      <td>25</td>\n",
       "      <td>0</td>\n",
       "      <td>0</td>\n",
       "      <td>0</td>\n",
       "      <td>112</td>\n",
       "      <td>4</td>\n",
       "      <td>999</td>\n",
       "      <td>0</td>\n",
       "      <td>1.1</td>\n",
       "      <td>93.994</td>\n",
       "      <td>-36.4</td>\n",
       "      <td>4.859</td>\n",
       "      <td>5191.0</td>\n",
       "      <td>0</td>\n",
       "    </tr>\n",
       "  </tbody>\n",
       "</table>\n",
       "<p>41188 rows × 14 columns</p>\n",
       "</div>"
      ],
      "text/plain": [
       "       age  default  housing  loan  duration  campaign  pdays  previous  \\\n",
       "0       44        0        1     0       210         1    999         0   \n",
       "1       53        0        0     0       138         1    999         0   \n",
       "2       28        0        1     0       339         3      6         2   \n",
       "3       39        0        0     0       185         2    999         0   \n",
       "4       55        0        1     0       137         1      3         1   \n",
       "...    ...      ...      ...   ...       ...       ...    ...       ...   \n",
       "41183   59        0        0     1       222         1    999         0   \n",
       "41184   31        0        0     0       196         2    999         0   \n",
       "41185   42        0        1     1        62         3    999         0   \n",
       "41186   48        0        0     1       200         2    999         0   \n",
       "41187   25        0        0     0       112         4    999         0   \n",
       "\n",
       "       emp_var_rate  cons_price_idx  cons_conf_idx  euribor3m  nr_employed  y  \n",
       "0               1.4          93.444          -36.1      4.963       5228.1  0  \n",
       "1              -0.1          93.200          -42.0      4.021       5195.8  0  \n",
       "2              -1.7          94.055          -39.8      0.729       4991.6  1  \n",
       "3              -1.8          93.075          -47.1      1.405       5099.1  0  \n",
       "4              -2.9          92.201          -31.4      0.869       5076.2  1  \n",
       "...             ...             ...            ...        ...          ... ..  \n",
       "41183           1.4          94.465          -41.8      4.866       5228.1  0  \n",
       "41184           1.1          93.994          -36.4      4.860       5191.0  0  \n",
       "41185           1.1          93.994          -36.4      4.857       5191.0  0  \n",
       "41186          -3.4          92.431          -26.9      0.742       5017.5  0  \n",
       "41187           1.1          93.994          -36.4      4.859       5191.0  0  \n",
       "\n",
       "[41188 rows x 14 columns]"
      ]
     },
     "execution_count": 32,
     "metadata": {},
     "output_type": "execute_result"
    }
   ],
   "source": [
    "#To see data that are in integer format\n",
    "\n",
    "data_integers = data.select_dtypes(exclude = ['O'])\n",
    "data_integers"
   ]
  },
  {
   "cell_type": "code",
   "execution_count": 33,
   "id": "d0c32ede",
   "metadata": {},
   "outputs": [
    {
     "data": {
      "text/html": [
       "<div>\n",
       "<style scoped>\n",
       "    .dataframe tbody tr th:only-of-type {\n",
       "        vertical-align: middle;\n",
       "    }\n",
       "\n",
       "    .dataframe tbody tr th {\n",
       "        vertical-align: top;\n",
       "    }\n",
       "\n",
       "    .dataframe thead th {\n",
       "        text-align: right;\n",
       "    }\n",
       "</style>\n",
       "<table border=\"1\" class=\"dataframe\">\n",
       "  <thead>\n",
       "    <tr style=\"text-align: right;\">\n",
       "      <th></th>\n",
       "      <th>age</th>\n",
       "      <th>job</th>\n",
       "      <th>marital</th>\n",
       "      <th>education</th>\n",
       "      <th>default</th>\n",
       "      <th>housing</th>\n",
       "      <th>loan</th>\n",
       "      <th>contact</th>\n",
       "      <th>month</th>\n",
       "      <th>day_of_week</th>\n",
       "      <th>campaign</th>\n",
       "      <th>previous</th>\n",
       "      <th>poutcome</th>\n",
       "      <th>y</th>\n",
       "    </tr>\n",
       "  </thead>\n",
       "  <tbody>\n",
       "    <tr>\n",
       "      <th>0</th>\n",
       "      <td>44</td>\n",
       "      <td>blue-collar</td>\n",
       "      <td>married</td>\n",
       "      <td>Basic</td>\n",
       "      <td>0</td>\n",
       "      <td>1</td>\n",
       "      <td>0</td>\n",
       "      <td>cellular</td>\n",
       "      <td>aug</td>\n",
       "      <td>thu</td>\n",
       "      <td>1</td>\n",
       "      <td>0</td>\n",
       "      <td>nonexistent</td>\n",
       "      <td>0</td>\n",
       "    </tr>\n",
       "    <tr>\n",
       "      <th>1</th>\n",
       "      <td>53</td>\n",
       "      <td>technician</td>\n",
       "      <td>married</td>\n",
       "      <td>higher</td>\n",
       "      <td>0</td>\n",
       "      <td>0</td>\n",
       "      <td>0</td>\n",
       "      <td>cellular</td>\n",
       "      <td>nov</td>\n",
       "      <td>fri</td>\n",
       "      <td>1</td>\n",
       "      <td>0</td>\n",
       "      <td>nonexistent</td>\n",
       "      <td>0</td>\n",
       "    </tr>\n",
       "    <tr>\n",
       "      <th>2</th>\n",
       "      <td>28</td>\n",
       "      <td>management</td>\n",
       "      <td>single</td>\n",
       "      <td>higher</td>\n",
       "      <td>0</td>\n",
       "      <td>1</td>\n",
       "      <td>0</td>\n",
       "      <td>cellular</td>\n",
       "      <td>jun</td>\n",
       "      <td>thu</td>\n",
       "      <td>3</td>\n",
       "      <td>2</td>\n",
       "      <td>success</td>\n",
       "      <td>1</td>\n",
       "    </tr>\n",
       "    <tr>\n",
       "      <th>3</th>\n",
       "      <td>39</td>\n",
       "      <td>services</td>\n",
       "      <td>married</td>\n",
       "      <td>higher</td>\n",
       "      <td>0</td>\n",
       "      <td>0</td>\n",
       "      <td>0</td>\n",
       "      <td>cellular</td>\n",
       "      <td>apr</td>\n",
       "      <td>fri</td>\n",
       "      <td>2</td>\n",
       "      <td>0</td>\n",
       "      <td>nonexistent</td>\n",
       "      <td>0</td>\n",
       "    </tr>\n",
       "    <tr>\n",
       "      <th>4</th>\n",
       "      <td>55</td>\n",
       "      <td>retired</td>\n",
       "      <td>married</td>\n",
       "      <td>Basic</td>\n",
       "      <td>0</td>\n",
       "      <td>1</td>\n",
       "      <td>0</td>\n",
       "      <td>cellular</td>\n",
       "      <td>aug</td>\n",
       "      <td>fri</td>\n",
       "      <td>1</td>\n",
       "      <td>1</td>\n",
       "      <td>success</td>\n",
       "      <td>1</td>\n",
       "    </tr>\n",
       "    <tr>\n",
       "      <th>...</th>\n",
       "      <td>...</td>\n",
       "      <td>...</td>\n",
       "      <td>...</td>\n",
       "      <td>...</td>\n",
       "      <td>...</td>\n",
       "      <td>...</td>\n",
       "      <td>...</td>\n",
       "      <td>...</td>\n",
       "      <td>...</td>\n",
       "      <td>...</td>\n",
       "      <td>...</td>\n",
       "      <td>...</td>\n",
       "      <td>...</td>\n",
       "      <td>...</td>\n",
       "    </tr>\n",
       "    <tr>\n",
       "      <th>41183</th>\n",
       "      <td>59</td>\n",
       "      <td>retired</td>\n",
       "      <td>married</td>\n",
       "      <td>higher</td>\n",
       "      <td>0</td>\n",
       "      <td>0</td>\n",
       "      <td>1</td>\n",
       "      <td>telephone</td>\n",
       "      <td>jun</td>\n",
       "      <td>thu</td>\n",
       "      <td>1</td>\n",
       "      <td>0</td>\n",
       "      <td>nonexistent</td>\n",
       "      <td>0</td>\n",
       "    </tr>\n",
       "    <tr>\n",
       "      <th>41184</th>\n",
       "      <td>31</td>\n",
       "      <td>housemaid</td>\n",
       "      <td>married</td>\n",
       "      <td>Basic</td>\n",
       "      <td>0</td>\n",
       "      <td>0</td>\n",
       "      <td>0</td>\n",
       "      <td>telephone</td>\n",
       "      <td>may</td>\n",
       "      <td>thu</td>\n",
       "      <td>2</td>\n",
       "      <td>0</td>\n",
       "      <td>nonexistent</td>\n",
       "      <td>0</td>\n",
       "    </tr>\n",
       "    <tr>\n",
       "      <th>41185</th>\n",
       "      <td>42</td>\n",
       "      <td>admin.</td>\n",
       "      <td>single</td>\n",
       "      <td>higher</td>\n",
       "      <td>0</td>\n",
       "      <td>1</td>\n",
       "      <td>1</td>\n",
       "      <td>telephone</td>\n",
       "      <td>may</td>\n",
       "      <td>wed</td>\n",
       "      <td>3</td>\n",
       "      <td>0</td>\n",
       "      <td>nonexistent</td>\n",
       "      <td>0</td>\n",
       "    </tr>\n",
       "    <tr>\n",
       "      <th>41186</th>\n",
       "      <td>48</td>\n",
       "      <td>technician</td>\n",
       "      <td>married</td>\n",
       "      <td>higher</td>\n",
       "      <td>0</td>\n",
       "      <td>0</td>\n",
       "      <td>1</td>\n",
       "      <td>telephone</td>\n",
       "      <td>oct</td>\n",
       "      <td>tue</td>\n",
       "      <td>2</td>\n",
       "      <td>0</td>\n",
       "      <td>nonexistent</td>\n",
       "      <td>0</td>\n",
       "    </tr>\n",
       "    <tr>\n",
       "      <th>41187</th>\n",
       "      <td>25</td>\n",
       "      <td>student</td>\n",
       "      <td>single</td>\n",
       "      <td>higher</td>\n",
       "      <td>0</td>\n",
       "      <td>0</td>\n",
       "      <td>0</td>\n",
       "      <td>telephone</td>\n",
       "      <td>may</td>\n",
       "      <td>fri</td>\n",
       "      <td>4</td>\n",
       "      <td>0</td>\n",
       "      <td>nonexistent</td>\n",
       "      <td>0</td>\n",
       "    </tr>\n",
       "  </tbody>\n",
       "</table>\n",
       "<p>41188 rows × 14 columns</p>\n",
       "</div>"
      ],
      "text/plain": [
       "       age          job  marital education  default  housing  loan    contact  \\\n",
       "0       44  blue-collar  married     Basic        0        1     0   cellular   \n",
       "1       53   technician  married    higher        0        0     0   cellular   \n",
       "2       28   management   single    higher        0        1     0   cellular   \n",
       "3       39     services  married    higher        0        0     0   cellular   \n",
       "4       55      retired  married     Basic        0        1     0   cellular   \n",
       "...    ...          ...      ...       ...      ...      ...   ...        ...   \n",
       "41183   59      retired  married    higher        0        0     1  telephone   \n",
       "41184   31    housemaid  married     Basic        0        0     0  telephone   \n",
       "41185   42       admin.   single    higher        0        1     1  telephone   \n",
       "41186   48   technician  married    higher        0        0     1  telephone   \n",
       "41187   25      student   single    higher        0        0     0  telephone   \n",
       "\n",
       "      month day_of_week  campaign  previous     poutcome  y  \n",
       "0       aug         thu         1         0  nonexistent  0  \n",
       "1       nov         fri         1         0  nonexistent  0  \n",
       "2       jun         thu         3         2      success  1  \n",
       "3       apr         fri         2         0  nonexistent  0  \n",
       "4       aug         fri         1         1      success  1  \n",
       "...     ...         ...       ...       ...          ... ..  \n",
       "41183   jun         thu         1         0  nonexistent  0  \n",
       "41184   may         thu         2         0  nonexistent  0  \n",
       "41185   may         wed         3         0  nonexistent  0  \n",
       "41186   oct         tue         2         0  nonexistent  0  \n",
       "41187   may         fri         4         0  nonexistent  0  \n",
       "\n",
       "[41188 rows x 14 columns]"
      ]
     },
     "execution_count": 33,
     "metadata": {},
     "output_type": "execute_result"
    }
   ],
   "source": [
    "#To create a new copy of the preprocessed dataset and drop columns that are not needed\n",
    "\n",
    "data2 = data.copy()\n",
    "data2 = data2.drop(['duration', 'pdays', 'emp_var_rate', 'cons_price_idx', 'cons_conf_idx', 'euribor3m', 'nr_employed'], axis = 1)\n",
    "data2"
   ]
  },
  {
   "cell_type": "code",
   "execution_count": 34,
   "id": "473d430a",
   "metadata": {},
   "outputs": [
    {
     "data": {
      "text/plain": [
       "Index(['job', 'marital', 'education', 'contact', 'month', 'day_of_week',\n",
       "       'poutcome'],\n",
       "      dtype='object')"
      ]
     },
     "execution_count": 34,
     "metadata": {},
     "output_type": "execute_result"
    }
   ],
   "source": [
    "# Performing LabelEncoder on the categorical variables\n",
    "\n",
    "data_str = data2.select_dtypes(include = ['O'])\n",
    "data_str.columns"
   ]
  },
  {
   "cell_type": "code",
   "execution_count": 35,
   "id": "9712c839",
   "metadata": {},
   "outputs": [],
   "source": [
    "from sklearn import preprocessing\n",
    "from sklearn.preprocessing import LabelEncoder\n",
    "data_encoder = data_str.apply(LabelEncoder().fit_transform)"
   ]
  },
  {
   "cell_type": "code",
   "execution_count": 36,
   "id": "75f414cd",
   "metadata": {},
   "outputs": [],
   "source": [
    "#To concatenate both the preprocessed dataframes with integer and categorical variables \n",
    "\n",
    "data_concat = pd.concat([data_encoder,data_integers], axis = 1)\n",
    "\n",
    "final_data = pd.DataFrame(data_concat)"
   ]
  },
  {
   "cell_type": "code",
   "execution_count": 37,
   "id": "2e3810ad",
   "metadata": {},
   "outputs": [
    {
     "data": {
      "text/html": [
       "<div>\n",
       "<style scoped>\n",
       "    .dataframe tbody tr th:only-of-type {\n",
       "        vertical-align: middle;\n",
       "    }\n",
       "\n",
       "    .dataframe tbody tr th {\n",
       "        vertical-align: top;\n",
       "    }\n",
       "\n",
       "    .dataframe thead th {\n",
       "        text-align: right;\n",
       "    }\n",
       "</style>\n",
       "<table border=\"1\" class=\"dataframe\">\n",
       "  <thead>\n",
       "    <tr style=\"text-align: right;\">\n",
       "      <th></th>\n",
       "      <th>job</th>\n",
       "      <th>marital</th>\n",
       "      <th>education</th>\n",
       "      <th>contact</th>\n",
       "      <th>month</th>\n",
       "      <th>day_of_week</th>\n",
       "      <th>poutcome</th>\n",
       "      <th>age</th>\n",
       "      <th>default</th>\n",
       "      <th>housing</th>\n",
       "      <th>...</th>\n",
       "      <th>duration</th>\n",
       "      <th>campaign</th>\n",
       "      <th>pdays</th>\n",
       "      <th>previous</th>\n",
       "      <th>emp_var_rate</th>\n",
       "      <th>cons_price_idx</th>\n",
       "      <th>cons_conf_idx</th>\n",
       "      <th>euribor3m</th>\n",
       "      <th>nr_employed</th>\n",
       "      <th>y</th>\n",
       "    </tr>\n",
       "  </thead>\n",
       "  <tbody>\n",
       "    <tr>\n",
       "      <th>0</th>\n",
       "      <td>1</td>\n",
       "      <td>1</td>\n",
       "      <td>0</td>\n",
       "      <td>0</td>\n",
       "      <td>1</td>\n",
       "      <td>2</td>\n",
       "      <td>1</td>\n",
       "      <td>44</td>\n",
       "      <td>0</td>\n",
       "      <td>1</td>\n",
       "      <td>...</td>\n",
       "      <td>210</td>\n",
       "      <td>1</td>\n",
       "      <td>999</td>\n",
       "      <td>0</td>\n",
       "      <td>1.4</td>\n",
       "      <td>93.444</td>\n",
       "      <td>-36.1</td>\n",
       "      <td>4.963</td>\n",
       "      <td>5228.1</td>\n",
       "      <td>0</td>\n",
       "    </tr>\n",
       "    <tr>\n",
       "      <th>1</th>\n",
       "      <td>9</td>\n",
       "      <td>1</td>\n",
       "      <td>1</td>\n",
       "      <td>0</td>\n",
       "      <td>7</td>\n",
       "      <td>0</td>\n",
       "      <td>1</td>\n",
       "      <td>53</td>\n",
       "      <td>0</td>\n",
       "      <td>0</td>\n",
       "      <td>...</td>\n",
       "      <td>138</td>\n",
       "      <td>1</td>\n",
       "      <td>999</td>\n",
       "      <td>0</td>\n",
       "      <td>-0.1</td>\n",
       "      <td>93.200</td>\n",
       "      <td>-42.0</td>\n",
       "      <td>4.021</td>\n",
       "      <td>5195.8</td>\n",
       "      <td>0</td>\n",
       "    </tr>\n",
       "    <tr>\n",
       "      <th>2</th>\n",
       "      <td>4</td>\n",
       "      <td>2</td>\n",
       "      <td>1</td>\n",
       "      <td>0</td>\n",
       "      <td>4</td>\n",
       "      <td>2</td>\n",
       "      <td>2</td>\n",
       "      <td>28</td>\n",
       "      <td>0</td>\n",
       "      <td>1</td>\n",
       "      <td>...</td>\n",
       "      <td>339</td>\n",
       "      <td>3</td>\n",
       "      <td>6</td>\n",
       "      <td>2</td>\n",
       "      <td>-1.7</td>\n",
       "      <td>94.055</td>\n",
       "      <td>-39.8</td>\n",
       "      <td>0.729</td>\n",
       "      <td>4991.6</td>\n",
       "      <td>1</td>\n",
       "    </tr>\n",
       "    <tr>\n",
       "      <th>3</th>\n",
       "      <td>7</td>\n",
       "      <td>1</td>\n",
       "      <td>1</td>\n",
       "      <td>0</td>\n",
       "      <td>0</td>\n",
       "      <td>0</td>\n",
       "      <td>1</td>\n",
       "      <td>39</td>\n",
       "      <td>0</td>\n",
       "      <td>0</td>\n",
       "      <td>...</td>\n",
       "      <td>185</td>\n",
       "      <td>2</td>\n",
       "      <td>999</td>\n",
       "      <td>0</td>\n",
       "      <td>-1.8</td>\n",
       "      <td>93.075</td>\n",
       "      <td>-47.1</td>\n",
       "      <td>1.405</td>\n",
       "      <td>5099.1</td>\n",
       "      <td>0</td>\n",
       "    </tr>\n",
       "    <tr>\n",
       "      <th>4</th>\n",
       "      <td>5</td>\n",
       "      <td>1</td>\n",
       "      <td>0</td>\n",
       "      <td>0</td>\n",
       "      <td>1</td>\n",
       "      <td>0</td>\n",
       "      <td>2</td>\n",
       "      <td>55</td>\n",
       "      <td>0</td>\n",
       "      <td>1</td>\n",
       "      <td>...</td>\n",
       "      <td>137</td>\n",
       "      <td>1</td>\n",
       "      <td>3</td>\n",
       "      <td>1</td>\n",
       "      <td>-2.9</td>\n",
       "      <td>92.201</td>\n",
       "      <td>-31.4</td>\n",
       "      <td>0.869</td>\n",
       "      <td>5076.2</td>\n",
       "      <td>1</td>\n",
       "    </tr>\n",
       "  </tbody>\n",
       "</table>\n",
       "<p>5 rows × 21 columns</p>\n",
       "</div>"
      ],
      "text/plain": [
       "   job  marital  education  contact  month  day_of_week  poutcome  age  \\\n",
       "0    1        1          0        0      1            2         1   44   \n",
       "1    9        1          1        0      7            0         1   53   \n",
       "2    4        2          1        0      4            2         2   28   \n",
       "3    7        1          1        0      0            0         1   39   \n",
       "4    5        1          0        0      1            0         2   55   \n",
       "\n",
       "   default  housing  ...  duration  campaign  pdays  previous  emp_var_rate  \\\n",
       "0        0        1  ...       210         1    999         0           1.4   \n",
       "1        0        0  ...       138         1    999         0          -0.1   \n",
       "2        0        1  ...       339         3      6         2          -1.7   \n",
       "3        0        0  ...       185         2    999         0          -1.8   \n",
       "4        0        1  ...       137         1      3         1          -2.9   \n",
       "\n",
       "   cons_price_idx  cons_conf_idx  euribor3m  nr_employed  y  \n",
       "0          93.444          -36.1      4.963       5228.1  0  \n",
       "1          93.200          -42.0      4.021       5195.8  0  \n",
       "2          94.055          -39.8      0.729       4991.6  1  \n",
       "3          93.075          -47.1      1.405       5099.1  0  \n",
       "4          92.201          -31.4      0.869       5076.2  1  \n",
       "\n",
       "[5 rows x 21 columns]"
      ]
     },
     "execution_count": 37,
     "metadata": {},
     "output_type": "execute_result"
    }
   ],
   "source": [
    "final_data.head()"
   ]
  },
  {
   "cell_type": "code",
   "execution_count": 38,
   "id": "d6e410a7",
   "metadata": {},
   "outputs": [
    {
     "data": {
      "text/html": [
       "<div>\n",
       "<style scoped>\n",
       "    .dataframe tbody tr th:only-of-type {\n",
       "        vertical-align: middle;\n",
       "    }\n",
       "\n",
       "    .dataframe tbody tr th {\n",
       "        vertical-align: top;\n",
       "    }\n",
       "\n",
       "    .dataframe thead th {\n",
       "        text-align: right;\n",
       "    }\n",
       "</style>\n",
       "<table border=\"1\" class=\"dataframe\">\n",
       "  <thead>\n",
       "    <tr style=\"text-align: right;\">\n",
       "      <th></th>\n",
       "      <th>job</th>\n",
       "      <th>marital</th>\n",
       "      <th>education</th>\n",
       "      <th>contact</th>\n",
       "      <th>month</th>\n",
       "      <th>day_of_week</th>\n",
       "      <th>poutcome</th>\n",
       "      <th>age</th>\n",
       "      <th>default</th>\n",
       "      <th>housing</th>\n",
       "      <th>loan</th>\n",
       "      <th>duration</th>\n",
       "      <th>campaign</th>\n",
       "      <th>pdays</th>\n",
       "      <th>previous</th>\n",
       "      <th>emp_var_rate</th>\n",
       "      <th>cons_price_idx</th>\n",
       "      <th>cons_conf_idx</th>\n",
       "      <th>euribor3m</th>\n",
       "      <th>nr_employed</th>\n",
       "    </tr>\n",
       "  </thead>\n",
       "  <tbody>\n",
       "    <tr>\n",
       "      <th>0</th>\n",
       "      <td>1</td>\n",
       "      <td>1</td>\n",
       "      <td>0</td>\n",
       "      <td>0</td>\n",
       "      <td>1</td>\n",
       "      <td>2</td>\n",
       "      <td>1</td>\n",
       "      <td>44</td>\n",
       "      <td>0</td>\n",
       "      <td>1</td>\n",
       "      <td>0</td>\n",
       "      <td>210</td>\n",
       "      <td>1</td>\n",
       "      <td>999</td>\n",
       "      <td>0</td>\n",
       "      <td>1.4</td>\n",
       "      <td>93.444</td>\n",
       "      <td>-36.1</td>\n",
       "      <td>4.963</td>\n",
       "      <td>5228.1</td>\n",
       "    </tr>\n",
       "    <tr>\n",
       "      <th>1</th>\n",
       "      <td>9</td>\n",
       "      <td>1</td>\n",
       "      <td>1</td>\n",
       "      <td>0</td>\n",
       "      <td>7</td>\n",
       "      <td>0</td>\n",
       "      <td>1</td>\n",
       "      <td>53</td>\n",
       "      <td>0</td>\n",
       "      <td>0</td>\n",
       "      <td>0</td>\n",
       "      <td>138</td>\n",
       "      <td>1</td>\n",
       "      <td>999</td>\n",
       "      <td>0</td>\n",
       "      <td>-0.1</td>\n",
       "      <td>93.200</td>\n",
       "      <td>-42.0</td>\n",
       "      <td>4.021</td>\n",
       "      <td>5195.8</td>\n",
       "    </tr>\n",
       "    <tr>\n",
       "      <th>2</th>\n",
       "      <td>4</td>\n",
       "      <td>2</td>\n",
       "      <td>1</td>\n",
       "      <td>0</td>\n",
       "      <td>4</td>\n",
       "      <td>2</td>\n",
       "      <td>2</td>\n",
       "      <td>28</td>\n",
       "      <td>0</td>\n",
       "      <td>1</td>\n",
       "      <td>0</td>\n",
       "      <td>339</td>\n",
       "      <td>3</td>\n",
       "      <td>6</td>\n",
       "      <td>2</td>\n",
       "      <td>-1.7</td>\n",
       "      <td>94.055</td>\n",
       "      <td>-39.8</td>\n",
       "      <td>0.729</td>\n",
       "      <td>4991.6</td>\n",
       "    </tr>\n",
       "    <tr>\n",
       "      <th>3</th>\n",
       "      <td>7</td>\n",
       "      <td>1</td>\n",
       "      <td>1</td>\n",
       "      <td>0</td>\n",
       "      <td>0</td>\n",
       "      <td>0</td>\n",
       "      <td>1</td>\n",
       "      <td>39</td>\n",
       "      <td>0</td>\n",
       "      <td>0</td>\n",
       "      <td>0</td>\n",
       "      <td>185</td>\n",
       "      <td>2</td>\n",
       "      <td>999</td>\n",
       "      <td>0</td>\n",
       "      <td>-1.8</td>\n",
       "      <td>93.075</td>\n",
       "      <td>-47.1</td>\n",
       "      <td>1.405</td>\n",
       "      <td>5099.1</td>\n",
       "    </tr>\n",
       "    <tr>\n",
       "      <th>4</th>\n",
       "      <td>5</td>\n",
       "      <td>1</td>\n",
       "      <td>0</td>\n",
       "      <td>0</td>\n",
       "      <td>1</td>\n",
       "      <td>0</td>\n",
       "      <td>2</td>\n",
       "      <td>55</td>\n",
       "      <td>0</td>\n",
       "      <td>1</td>\n",
       "      <td>0</td>\n",
       "      <td>137</td>\n",
       "      <td>1</td>\n",
       "      <td>3</td>\n",
       "      <td>1</td>\n",
       "      <td>-2.9</td>\n",
       "      <td>92.201</td>\n",
       "      <td>-31.4</td>\n",
       "      <td>0.869</td>\n",
       "      <td>5076.2</td>\n",
       "    </tr>\n",
       "  </tbody>\n",
       "</table>\n",
       "</div>"
      ],
      "text/plain": [
       "   job  marital  education  contact  month  day_of_week  poutcome  age  \\\n",
       "0    1        1          0        0      1            2         1   44   \n",
       "1    9        1          1        0      7            0         1   53   \n",
       "2    4        2          1        0      4            2         2   28   \n",
       "3    7        1          1        0      0            0         1   39   \n",
       "4    5        1          0        0      1            0         2   55   \n",
       "\n",
       "   default  housing  loan  duration  campaign  pdays  previous  emp_var_rate  \\\n",
       "0        0        1     0       210         1    999         0           1.4   \n",
       "1        0        0     0       138         1    999         0          -0.1   \n",
       "2        0        1     0       339         3      6         2          -1.7   \n",
       "3        0        0     0       185         2    999         0          -1.8   \n",
       "4        0        1     0       137         1      3         1          -2.9   \n",
       "\n",
       "   cons_price_idx  cons_conf_idx  euribor3m  nr_employed  \n",
       "0          93.444          -36.1      4.963       5228.1  \n",
       "1          93.200          -42.0      4.021       5195.8  \n",
       "2          94.055          -39.8      0.729       4991.6  \n",
       "3          93.075          -47.1      1.405       5099.1  \n",
       "4          92.201          -31.4      0.869       5076.2  "
      ]
     },
     "execution_count": 38,
     "metadata": {},
     "output_type": "execute_result"
    }
   ],
   "source": [
    "data_drop_y = data_concat.drop(['y'],axis = 1)\n",
    "data_drop_y.head()"
   ]
  },
  {
   "cell_type": "code",
   "execution_count": 39,
   "id": "073543ff",
   "metadata": {},
   "outputs": [],
   "source": [
    "y = data2['y'].values\n",
    "x = data_drop_y.values"
   ]
  },
  {
   "cell_type": "markdown",
   "id": "0ef02293",
   "metadata": {},
   "source": [
    "### 6.2 To split data "
   ]
  },
  {
   "cell_type": "code",
   "execution_count": 40,
   "id": "64a0911b",
   "metadata": {},
   "outputs": [],
   "source": [
    "# Split dataset to 80:20\n",
    "\n",
    "tf.random.set_seed(3465656)\n",
    "\n",
    "x_train, x_test, y_train, y_test = train_test_split(x, y, test_size=0.2, random_state=42)"
   ]
  },
  {
   "cell_type": "code",
   "execution_count": 41,
   "id": "c603ee52",
   "metadata": {},
   "outputs": [
    {
     "data": {
      "text/plain": [
       "((32950, 20), (32950,), (8238, 20), (8238,))"
      ]
     },
     "execution_count": 41,
     "metadata": {},
     "output_type": "execute_result"
    }
   ],
   "source": [
    "# To see shape of splitted data\n",
    "x_train.shape, y_train.shape, x_test.shape, y_test.shape"
   ]
  },
  {
   "cell_type": "markdown",
   "id": "952b2d6d",
   "metadata": {},
   "source": [
    "### 6.2 Small model for baseline statement"
   ]
  },
  {
   "cell_type": "code",
   "execution_count": 42,
   "id": "da9f3f95",
   "metadata": {},
   "outputs": [
    {
     "name": "stderr",
     "output_type": "stream",
     "text": [
      "/opt/anaconda3/lib/python3.8/site-packages/sklearn/linear_model/_logistic.py:814: ConvergenceWarning: lbfgs failed to converge (status=1):\n",
      "STOP: TOTAL NO. of ITERATIONS REACHED LIMIT.\n",
      "\n",
      "Increase the number of iterations (max_iter) or scale the data as shown in:\n",
      "    https://scikit-learn.org/stable/modules/preprocessing.html\n",
      "Please also refer to the documentation for alternative solver options:\n",
      "    https://scikit-learn.org/stable/modules/linear_model.html#logistic-regression\n",
      "  n_iter_i = _check_optimize_result(\n"
     ]
    },
    {
     "data": {
      "text/plain": [
       "0.907016266084001"
      ]
     },
     "execution_count": 42,
     "metadata": {},
     "output_type": "execute_result"
    }
   ],
   "source": [
    "# Using Logistic regression\n",
    "\n",
    "from sklearn import model_selection\n",
    "from sklearn.linear_model import LogisticRegression\n",
    "model_small=LogisticRegression(penalty='l2', max_iter=1000)\n",
    "model_small.fit(x_train, y_train)\n",
    "prediction=model_small.predict(x_test)\n",
    "from sklearn.metrics import accuracy_score\n",
    "accuracy_score(y_test, prediction)"
   ]
  },
  {
   "cell_type": "markdown",
   "id": "22ca40d4",
   "metadata": {},
   "source": [
    "The model using LogisticRegression to prove the baseline, the accuracy score is approx 0.91 which supports the data from EDA section that most people will not subscribe to the marketing campaign. "
   ]
  },
  {
   "cell_type": "code",
   "execution_count": 43,
   "id": "e5b2d403",
   "metadata": {},
   "outputs": [
    {
     "data": {
      "text/plain": [
       "(32950, 2)"
      ]
     },
     "execution_count": 43,
     "metadata": {},
     "output_type": "execute_result"
    }
   ],
   "source": [
    "y_train = to_categorical(y_train)\n",
    "y_train.shape"
   ]
  },
  {
   "cell_type": "code",
   "execution_count": 44,
   "id": "9e4f1c18",
   "metadata": {},
   "outputs": [],
   "source": [
    "# Feature scaling\n",
    "\n",
    "from sklearn.preprocessing import StandardScaler\n",
    "scaler = StandardScaler()  \n",
    "scaler.fit(x)\n",
    "x_train = scaler.transform(x_train)  \n",
    "x_test = scaler.transform(x_test)"
   ]
  },
  {
   "cell_type": "code",
   "execution_count": 45,
   "id": "560f997e",
   "metadata": {},
   "outputs": [
    {
     "data": {
      "text/plain": [
       "((32950, 20), (8238, 20))"
      ]
     },
     "execution_count": 45,
     "metadata": {},
     "output_type": "execute_result"
    }
   ],
   "source": [
    "x_train.shape, x_test.shape"
   ]
  },
  {
   "cell_type": "code",
   "execution_count": 46,
   "id": "2015f418",
   "metadata": {},
   "outputs": [
    {
     "data": {
      "text/plain": [
       "((31302, 20), (1648, 20), (31302, 2), (1648, 2))"
      ]
     },
     "execution_count": 46,
     "metadata": {},
     "output_type": "execute_result"
    }
   ],
   "source": [
    "X_train, X_valid, y_train, y_valid = train_test_split(x_train, y_train, test_size = 0.05)\n",
    "X_train.shape, X_valid.shape, y_train.shape, y_valid.shape"
   ]
  },
  {
   "cell_type": "markdown",
   "id": "7b9a0f3f",
   "metadata": {},
   "source": [
    "### 6.3 Modeling"
   ]
  },
  {
   "cell_type": "code",
   "execution_count": 47,
   "id": "c2fda7b7",
   "metadata": {},
   "outputs": [
    {
     "name": "stdout",
     "output_type": "stream",
     "text": [
      "Model: \"sequential\"\n",
      "_________________________________________________________________\n",
      " Layer (type)                Output Shape              Param #   \n",
      "=================================================================\n",
      " dense (Dense)               (None, 16)                336       \n",
      "                                                                 \n",
      " batch_normalization (BatchN  (None, 16)               64        \n",
      " ormalization)                                                   \n",
      "                                                                 \n",
      " dense_1 (Dense)             (None, 8)                 136       \n",
      "                                                                 \n",
      " batch_normalization_1 (Batc  (None, 8)                32        \n",
      " hNormalization)                                                 \n",
      "                                                                 \n",
      " dense_2 (Dense)             (None, 2)                 18        \n",
      "                                                                 \n",
      "=================================================================\n",
      "Total params: 586\n",
      "Trainable params: 538\n",
      "Non-trainable params: 48\n",
      "_________________________________________________________________\n"
     ]
    }
   ],
   "source": [
    "# To run model without adding droupout\n",
    "\n",
    "model = keras.models.Sequential([\n",
    "    keras.layers.Dense(16, activation = 'relu', input_shape = [20, ]),\n",
    "    keras.layers.BatchNormalization(),\n",
    "    keras.layers.Dense(8, activation = 'relu'),\n",
    "    keras.layers.BatchNormalization(),\n",
    "    keras.layers.Dense(2, activation = 'relu'),\n",
    "    #keras.layers.Dense(2, activation = 'sigmoid'),\n",
    "])\n",
    "\n",
    "model.summary()"
   ]
  },
  {
   "cell_type": "code",
   "execution_count": 48,
   "id": "116a95f1",
   "metadata": {},
   "outputs": [
    {
     "name": "stderr",
     "output_type": "stream",
     "text": [
      "/opt/anaconda3/lib/python3.8/site-packages/keras/optimizer_v2/rmsprop.py:130: UserWarning: The `lr` argument is deprecated, use `learning_rate` instead.\n",
      "  super(RMSprop, self).__init__(name, **kwargs)\n"
     ]
    }
   ],
   "source": [
    "model.compile(loss = 'binary_crossentropy', optimizer=optimizers.RMSprop(lr=0.002),metrics=[metrics.binary_accuracy])"
   ]
  },
  {
   "cell_type": "code",
   "execution_count": 49,
   "id": "dbb39e03",
   "metadata": {},
   "outputs": [
    {
     "name": "stdout",
     "output_type": "stream",
     "text": [
      "Epoch 1/10\n",
      "62/62 [==============================] - 2s 14ms/step - loss: 3.8129 - binary_accuracy: 0.6200 - val_loss: 2.3189 - val_binary_accuracy: 0.6508\n",
      "Epoch 2/10\n",
      "62/62 [==============================] - 0s 4ms/step - loss: 2.1174 - binary_accuracy: 0.7586 - val_loss: 1.3501 - val_binary_accuracy: 0.8155\n",
      "Epoch 3/10\n",
      "62/62 [==============================] - 0s 4ms/step - loss: 1.2842 - binary_accuracy: 0.8582 - val_loss: 1.1308 - val_binary_accuracy: 0.8802\n",
      "Epoch 4/10\n",
      "62/62 [==============================] - 0s 4ms/step - loss: 1.0390 - binary_accuracy: 0.8889 - val_loss: 0.9892 - val_binary_accuracy: 0.8917\n",
      "Epoch 5/10\n",
      "62/62 [==============================] - 0s 4ms/step - loss: 0.8622 - binary_accuracy: 0.8916 - val_loss: 0.8666 - val_binary_accuracy: 0.8856\n",
      "Epoch 6/10\n",
      "62/62 [==============================] - 0s 5ms/step - loss: 0.7680 - binary_accuracy: 0.8971 - val_loss: 0.7509 - val_binary_accuracy: 0.8965\n",
      "Epoch 7/10\n",
      "62/62 [==============================] - 0s 4ms/step - loss: 0.6719 - binary_accuracy: 0.8989 - val_loss: 0.6492 - val_binary_accuracy: 0.8850\n",
      "Epoch 8/10\n",
      "62/62 [==============================] - 0s 4ms/step - loss: 0.5959 - binary_accuracy: 0.8971 - val_loss: 0.5974 - val_binary_accuracy: 0.8911\n",
      "Epoch 9/10\n",
      "62/62 [==============================] - 0s 4ms/step - loss: 0.5514 - binary_accuracy: 0.9013 - val_loss: 0.4969 - val_binary_accuracy: 0.8950\n",
      "Epoch 10/10\n",
      "62/62 [==============================] - 0s 5ms/step - loss: 0.5065 - binary_accuracy: 0.9026 - val_loss: 0.4875 - val_binary_accuracy: 0.8978\n"
     ]
    }
   ],
   "source": [
    "history = model.fit(X_train, y_train, epochs = 10, validation_data = (X_valid, y_valid),batch_size=512)"
   ]
  },
  {
   "cell_type": "code",
   "execution_count": 50,
   "id": "2ee9e11e",
   "metadata": {},
   "outputs": [
    {
     "name": "stdout",
     "output_type": "stream",
     "text": [
      "52/52 [==============================] - 0s 2ms/step - loss: 0.4875 - binary_accuracy: 0.8978\n"
     ]
    }
   ],
   "source": [
    "# To get accuracy of the model\n",
    "\n",
    "loss, acc = model.evaluate(X_valid, y_valid, verbose=1)"
   ]
  },
  {
   "cell_type": "code",
   "execution_count": 51,
   "id": "105f0231",
   "metadata": {},
   "outputs": [
    {
     "data": {
      "text/plain": [
       "(0.48745572566986084, 0.8977548480033875)"
      ]
     },
     "execution_count": 51,
     "metadata": {},
     "output_type": "execute_result"
    }
   ],
   "source": [
    "loss, acc"
   ]
  },
  {
   "cell_type": "code",
   "execution_count": 52,
   "id": "fddcfcd5",
   "metadata": {},
   "outputs": [
    {
     "name": "stdout",
     "output_type": "stream",
     "text": [
      "979/979 [==============================] - 3s 3ms/step - loss: 0.4901 - binary_accuracy: 0.9032\n"
     ]
    }
   ],
   "source": [
    "loss1, acc1 = model.evaluate(X_train, y_train, verbose=1)"
   ]
  },
  {
   "cell_type": "code",
   "execution_count": 53,
   "id": "7cf0c94a",
   "metadata": {},
   "outputs": [
    {
     "data": {
      "text/plain": [
       "(0.4900650084018707, 0.903232991695404)"
      ]
     },
     "execution_count": 53,
     "metadata": {},
     "output_type": "execute_result"
    }
   ],
   "source": [
    "loss1, acc1"
   ]
  },
  {
   "cell_type": "code",
   "execution_count": 54,
   "id": "d54fe8ae",
   "metadata": {},
   "outputs": [
    {
     "data": {
      "text/plain": [
       "dict_keys(['loss', 'binary_accuracy', 'val_loss', 'val_binary_accuracy'])"
      ]
     },
     "execution_count": 54,
     "metadata": {},
     "output_type": "execute_result"
    }
   ],
   "source": [
    "history_dict = history.history\n",
    "history_dict.keys()"
   ]
  },
  {
   "cell_type": "code",
   "execution_count": 55,
   "id": "0d2e012c",
   "metadata": {},
   "outputs": [
    {
     "data": {
      "image/png": "[encoded data removed]",
      "text/plain": [
       "<Figure size 432x288 with 1 Axes>"
      ]
     },
     "metadata": {
      "needs_background": "light"
     },
     "output_type": "display_data"
    }
   ],
   "source": [
    "# Creating plots of the trained data\n",
    "\n",
    "history_dict = history.history\n",
    "loss_values = history_dict['loss']\n",
    "val_loss_values = history_dict['val_loss']\n",
    "epochs = range(1, len(loss_values) + 1)\n",
    "plt.plot(epochs, loss_values, 'bo', label='Training loss')\n",
    "plt.plot(epochs, val_loss_values, 'b', label='Validation loss')\n",
    "plt.title('Training and validation loss')\n",
    "plt.xlabel('Epochs')\n",
    "plt.ylabel('Loss')\n",
    "plt.legend()\n",
    "plt.show()"
   ]
  },
  {
   "cell_type": "code",
   "execution_count": 56,
   "id": "cdb65709",
   "metadata": {},
   "outputs": [
    {
     "data": {
      "image/png": "[encoded data removed]",
      "text/plain": [
       "<Figure size 432x288 with 1 Axes>"
      ]
     },
     "metadata": {
      "needs_background": "light"
     },
     "output_type": "display_data"
    }
   ],
   "source": [
    "plt.clf()\n",
    "acc = history_dict['binary_accuracy']\n",
    "val_acc = history_dict['val_binary_accuracy']\n",
    "\n",
    "plt.plot(epochs, acc, 'bo', label='Training acc')\n",
    "plt.plot(epochs, val_acc, 'b', label='Validation acc')\n",
    "plt.title('Training and validation accuracy')\n",
    "plt.xlabel('Epochs')\n",
    "plt.ylabel('Accuracy')\n",
    "plt.legend()\n",
    "plt.show()"
   ]
  },
  {
   "cell_type": "code",
   "execution_count": 57,
   "id": "68fef584",
   "metadata": {},
   "outputs": [
    {
     "name": "stdout",
     "output_type": "stream",
     "text": [
      "Model: \"sequential_1\"\n",
      "_________________________________________________________________\n",
      " Layer (type)                Output Shape              Param #   \n",
      "=================================================================\n",
      " dense_3 (Dense)             (None, 16)                336       \n",
      "                                                                 \n",
      " dropout (Dropout)           (None, 16)                0         \n",
      "                                                                 \n",
      " dense_4 (Dense)             (None, 8)                 136       \n",
      "                                                                 \n",
      " dropout_1 (Dropout)         (None, 8)                 0         \n",
      "                                                                 \n",
      " dense_5 (Dense)             (None, 2)                 18        \n",
      "                                                                 \n",
      "=================================================================\n",
      "Total params: 490\n",
      "Trainable params: 490\n",
      "Non-trainable params: 0\n",
      "_________________________________________________________________\n"
     ]
    }
   ],
   "source": [
    "# To run model with adding dropout and changing parameter\n",
    "\n",
    "model_dropout = keras.models.Sequential([\n",
    "    keras.layers.Dense(16, activation = 'relu', input_shape = [20, ]),\n",
    "    keras.layers.Dropout(0.3),\n",
    "    #keras.layers.BatchNormalization(),\n",
    "    keras.layers.Dense(8, activation = 'relu'),\n",
    "    keras.layers.Dropout(0.4),\n",
    "    #keras.layers.BatchNormalization(),\n",
    "    keras.layers.Dense(2, activation = 'relu'),\n",
    "    #keras.layers.Dropout(0.99),\n",
    "    #keras.layers.Dense(2, activation = 'sigmoid'),\n",
    "    #keras.layers.BatchNormalization()\n",
    "])\n",
    "\n",
    "model_dropout.summary()"
   ]
  },
  {
   "cell_type": "code",
   "execution_count": 58,
   "id": "c3080e78",
   "metadata": {},
   "outputs": [],
   "source": [
    "model_dropout.compile(loss = 'binary_crossentropy', optimizer=optimizers.RMSprop(lr=0.002),metrics=[metrics.binary_accuracy])"
   ]
  },
  {
   "cell_type": "code",
   "execution_count": 59,
   "id": "d233e0ad",
   "metadata": {},
   "outputs": [
    {
     "name": "stdout",
     "output_type": "stream",
     "text": [
      "Epoch 1/10\n",
      "62/62 [==============================] - 1s 6ms/step - loss: 2.0043 - binary_accuracy: 0.6631 - val_loss: 1.2816 - val_binary_accuracy: 0.8447\n",
      "Epoch 2/10\n",
      "62/62 [==============================] - 0s 4ms/step - loss: 1.3747 - binary_accuracy: 0.7745 - val_loss: 1.1427 - val_binary_accuracy: 0.8820\n",
      "Epoch 3/10\n",
      "62/62 [==============================] - 0s 4ms/step - loss: 1.1915 - binary_accuracy: 0.8085 - val_loss: 1.0232 - val_binary_accuracy: 0.8902\n",
      "Epoch 4/10\n",
      "62/62 [==============================] - 0s 4ms/step - loss: 1.0500 - binary_accuracy: 0.8268 - val_loss: 0.7127 - val_binary_accuracy: 0.8944\n",
      "Epoch 5/10\n",
      "62/62 [==============================] - 0s 3ms/step - loss: 0.8706 - binary_accuracy: 0.8411 - val_loss: 0.4715 - val_binary_accuracy: 0.8902\n",
      "Epoch 6/10\n",
      "62/62 [==============================] - 0s 3ms/step - loss: 0.6908 - binary_accuracy: 0.8328 - val_loss: 0.3962 - val_binary_accuracy: 0.8780\n",
      "Epoch 7/10\n",
      "62/62 [==============================] - 0s 4ms/step - loss: 0.6026 - binary_accuracy: 0.8391 - val_loss: 0.3697 - val_binary_accuracy: 0.8832\n",
      "Epoch 8/10\n",
      "62/62 [==============================] - 0s 3ms/step - loss: 0.4999 - binary_accuracy: 0.8543 - val_loss: 0.3187 - val_binary_accuracy: 0.8774\n",
      "Epoch 9/10\n",
      "62/62 [==============================] - 0s 3ms/step - loss: 0.4321 - binary_accuracy: 0.8563 - val_loss: 0.3081 - val_binary_accuracy: 0.8771\n",
      "Epoch 10/10\n",
      "62/62 [==============================] - 0s 3ms/step - loss: 0.4087 - binary_accuracy: 0.8600 - val_loss: 0.2981 - val_binary_accuracy: 0.8714\n"
     ]
    }
   ],
   "source": [
    "history_dropout = model_dropout.fit(X_train, y_train, epochs = 10, validation_data = (X_valid, y_valid),batch_size=512)"
   ]
  },
  {
   "cell_type": "code",
   "execution_count": 60,
   "id": "e172d7d8",
   "metadata": {},
   "outputs": [
    {
     "name": "stdout",
     "output_type": "stream",
     "text": [
      "52/52 [==============================] - 0s 6ms/step - loss: 0.2981 - binary_accuracy: 0.8714\n"
     ]
    }
   ],
   "source": [
    "# To get accuracy of the model\n",
    "\n",
    "loss, acc = model_dropout.evaluate(X_valid, y_valid, verbose=1)"
   ]
  },
  {
   "cell_type": "code",
   "execution_count": 61,
   "id": "3da00ccf",
   "metadata": {},
   "outputs": [
    {
     "data": {
      "text/plain": [
       "(0.2981078028678894, 0.8713592290878296)"
      ]
     },
     "execution_count": 61,
     "metadata": {},
     "output_type": "execute_result"
    }
   ],
   "source": [
    "loss, acc"
   ]
  },
  {
   "cell_type": "code",
   "execution_count": 62,
   "id": "5b3cf117",
   "metadata": {},
   "outputs": [
    {
     "name": "stdout",
     "output_type": "stream",
     "text": [
      "979/979 [==============================] - 2s 2ms/step - loss: 0.3176 - binary_accuracy: 0.8795\n"
     ]
    }
   ],
   "source": [
    "loss1, acc1 = model_dropout.evaluate(X_train, y_train, verbose=1)"
   ]
  },
  {
   "cell_type": "code",
   "execution_count": 63,
   "id": "f16cb30e",
   "metadata": {},
   "outputs": [
    {
     "data": {
      "text/plain": [
       "dict_keys(['loss', 'binary_accuracy', 'val_loss', 'val_binary_accuracy'])"
      ]
     },
     "execution_count": 63,
     "metadata": {},
     "output_type": "execute_result"
    }
   ],
   "source": [
    "history_dict_ = history_dropout.history\n",
    "history_dict_.keys()"
   ]
  },
  {
   "cell_type": "code",
   "execution_count": 64,
   "id": "75a6b5e7",
   "metadata": {},
   "outputs": [
    {
     "data": {
      "image/png": "[encoded data removed]",
      "text/plain": [
       "<Figure size 432x288 with 1 Axes>"
      ]
     },
     "metadata": {
      "needs_background": "light"
     },
     "output_type": "display_data"
    }
   ],
   "source": [
    "# Creating plots of the trained data\n",
    "\n",
    "history_dict_ = history_dropout.history\n",
    "loss_values = history_dict_['loss']\n",
    "val_loss_values = history_dict_['val_loss']\n",
    "epochs = range(1, len(loss_values) + 1)\n",
    "plt.plot(epochs, loss_values, 'bo', label='Training loss')\n",
    "plt.plot(epochs, val_loss_values, 'b', label='Validation loss')\n",
    "plt.title('Training and validation loss')\n",
    "plt.xlabel('Epochs')\n",
    "plt.ylabel('Loss')\n",
    "plt.legend()\n",
    "plt.show()\n"
   ]
  },
  {
   "cell_type": "code",
   "execution_count": 65,
   "id": "d1467002",
   "metadata": {},
   "outputs": [
    {
     "data": {
      "image/png": "[encoded data removed]",
      "text/plain": [
       "<Figure size 432x288 with 1 Axes>"
      ]
     },
     "metadata": {
      "needs_background": "light"
     },
     "output_type": "display_data"
    }
   ],
   "source": [
    "plt.clf()\n",
    "acc = history_dict_['binary_accuracy']\n",
    "val_acc = history_dict_['val_binary_accuracy']\n",
    "\n",
    "plt.plot(epochs, acc, 'bo', label='Training acc')\n",
    "plt.plot(epochs, val_acc, 'b', label='Validation acc')\n",
    "plt.title('Training and validation accuracy')\n",
    "plt.xlabel('Epochs')\n",
    "plt.ylabel('Accuracy')\n",
    "plt.legend()\n",
    "plt.show()"
   ]
  },
  {
   "cell_type": "markdown",
   "id": "a80642d4",
   "metadata": {},
   "source": [
    "## 7. Discussion"
   ]
  },
  {
   "cell_type": "markdown",
   "id": "2fe1c4f2",
   "metadata": {},
   "source": [
    "From the Exploratory Data Analysis (EDA) section and the small training model using LogisticRegression, we can assume that most people will not subscribe to the term deposits campaign while few people will subscribe to the campaign.\n",
    "\n",
    "In this neural netwotk model.The size of the dataset is moderate, thefore, I tend to apply it with smaller units and fewer layers as in this case I use 3 layers, and 32, 16, and 2 for units for both model with adding dropout and model without adding dropout. I chose 10 as an optimal epoch, as we can see from the graphs that after first few epochs, the network beigns to overfit. \n",
    "\n",
    "After training the model without adding dropout, we got the accuracy of validation train test set is approximately 0.8971 and the accuracy of train test set is 0.90091. With this very high accuracy, I though the data can be overfitted. Therefore, in the second model I applied dropout to help avoiding overfitting. After applying the dropout the accuracy results have gone down a little bit to approximately 0.8826.  \n",
    "\n",
    "The plots from both model illustrates that model without dropout, the network in Training and validation loss begins to overfit after 8th epoch and network in Training and validation accuracy begins to overfit after 4th epoch. Similarly to the plot of model with dropout, Training and validation loss begins to overfit after 8th epoch and for Training and validation accuracy begins to overfit after 6th epoch. Therefore, we can infer that with this model adding or not adding dropout will make little change to the network. \n",
    "\n",
    "In addition, for both models with and without adding dropout, the Training and validation loss shows that training loss decreases with every epoch, while the training accuracy increases with every epoch. \n",
    "\n",
    "To conclude, after doing a neural network modelling, we can deduce the conclusion that more than 90 percent of the clients will not subscribe to the marketing campaign. \n",
    "\n"
   ]
  },
  {
   "cell_type": "markdown",
   "id": "002125ed",
   "metadata": {},
   "source": [
    "## 8. Reference\n",
    "\n",
    "UCI Machine Learning Repository: Bank Marketing Data Set. (n.d.). UCI. http://archive.ics.uci.edu/ml/datasets/Bank+Marketing\n",
    "\n",
    "Chicago. Chollet, Francois. 2017. Deep Learning with Python. New York, NY: Manning Publications.\n",
    "\n",
    "RAHUL. (n.d.). kaggle kernels pull captaintyping/end-to-end-ml-on-uci-bank-marketing-dataset. Kaggle. https://www.kaggle.com/captaintyping/end-to-end-ml-on-uci-bank-marketing-dataset\n",
    "\n",
    "matplotlib.pyplot.legend — Matplotlib 3.5.1 documentation. (n.d.). Matplotlib. https://matplotlib.org/stable/api/_as_gen/matplotlib.pyplot.legend.html\n",
    "\n",
    "Ameisen, E. (2018, June 20). Always start with a stupid model, no exceptions. - Insight. Medium. https://blog.insightdatascience.com/always-start-with-a-stupid-model-no-exceptions-3a22314b9aaa"
   ]
  }
 ],
 "metadata": {
  "kernelspec": {
   "display_name": "Python 3",
   "language": "python",
   "name": "python3"
  },
  "language_info": {
   "codemirror_mode": {
    "name": "ipython",
    "version": 3
   },
   "file_extension": ".py",
   "mimetype": "text/x-python",
   "name": "python",
   "nbconvert_exporter": "python",
   "pygments_lexer": "ipython3",
   "version": "3.8.8"
  }
 },
 "nbformat": 4,
 "nbformat_minor": 5
}
